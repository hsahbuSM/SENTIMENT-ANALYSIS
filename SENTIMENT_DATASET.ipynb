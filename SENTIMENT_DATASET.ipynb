{
  "nbformat": 4,
  "nbformat_minor": 0,
  "metadata": {
    "colab": {
      "provenance": [],
      "authorship_tag": "ABX9TyNJvuAHjkhUBA9QvhmzOvo9",
      "include_colab_link": true
    },
    "kernelspec": {
      "name": "python3",
      "display_name": "Python 3"
    },
    "language_info": {
      "name": "python"
    }
  },
  "cells": [
    {
      "cell_type": "markdown",
      "metadata": {
        "id": "view-in-github",
        "colab_type": "text"
      },
      "source": [
        "<a href=\"https://colab.research.google.com/github/hsahbuSM/SENTIMENT-DATASET/blob/main/SENTIMENT_DATASET.ipynb\" target=\"_parent\"><img src=\"https://colab.research.google.com/assets/colab-badge.svg\" alt=\"Open In Colab\"/></a>"
      ]
    },
    {
      "cell_type": "code",
      "execution_count": 300,
      "metadata": {
        "id": "J5rHA-Q6xJdh"
      },
      "outputs": [],
      "source": [
        "import numpy as np\n",
        "import pandas as pd\n",
        "import matplotlib.pyplot as plt\n",
        "import seaborn as sns"
      ]
    },
    {
      "cell_type": "code",
      "source": [
        "df= pd.read_csv(r\"/content/sentimentdataset.csv\")\n",
        "df.head()"
      ],
      "metadata": {
        "colab": {
          "base_uri": "https://localhost:8080/",
          "height": 642
        },
        "id": "cPeUGvAOxLFB",
        "outputId": "ee587fc2-71a6-46ab-f7ee-4d5b102d7f96"
      },
      "execution_count": 301,
      "outputs": [
        {
          "output_type": "execute_result",
          "data": {
            "text/plain": [
              "   Unnamed: 0.1  Unnamed: 0  \\\n",
              "0             0           0   \n",
              "1             1           1   \n",
              "2             2           2   \n",
              "3             3           3   \n",
              "4             4           4   \n",
              "\n",
              "                                                Text    Sentiment  \\\n",
              "0   Enjoying a beautiful day at the park!        ...   Positive     \n",
              "1   Traffic was terrible this morning.           ...   Negative     \n",
              "2   Just finished an amazing workout! 💪          ...   Positive     \n",
              "3   Excited about the upcoming weekend getaway!  ...   Positive     \n",
              "4   Trying out a new recipe for dinner tonight.  ...   Neutral      \n",
              "\n",
              "             Timestamp            User     Platform  \\\n",
              "0  2023-01-15 12:30:00   User123          Twitter     \n",
              "1  2023-01-15 08:45:00   CommuterX        Twitter     \n",
              "2  2023-01-15 15:45:00   FitnessFan      Instagram    \n",
              "3  2023-01-15 18:20:00   AdventureX       Facebook    \n",
              "4  2023-01-15 19:55:00   ChefCook        Instagram    \n",
              "\n",
              "                                     Hashtags  Retweets  Likes       Country  \\\n",
              "0   #Nature #Park                                  15.0   30.0     USA         \n",
              "1   #Traffic #Morning                               5.0   10.0     Canada      \n",
              "2   #Fitness #Workout                              20.0   40.0   USA           \n",
              "3   #Travel #Adventure                              8.0   15.0     UK          \n",
              "4   #Cooking #Food                                 12.0   25.0    Australia    \n",
              "\n",
              "   Year  Month  Day  Hour  \n",
              "0  2023      1   15    12  \n",
              "1  2023      1   15     8  \n",
              "2  2023      1   15    15  \n",
              "3  2023      1   15    18  \n",
              "4  2023      1   15    19  "
            ],
            "text/html": [
              "\n",
              "  <div id=\"df-b5b1c80d-2be9-43b5-b1d6-0e4b1c86e25a\" class=\"colab-df-container\">\n",
              "    <div>\n",
              "<style scoped>\n",
              "    .dataframe tbody tr th:only-of-type {\n",
              "        vertical-align: middle;\n",
              "    }\n",
              "\n",
              "    .dataframe tbody tr th {\n",
              "        vertical-align: top;\n",
              "    }\n",
              "\n",
              "    .dataframe thead th {\n",
              "        text-align: right;\n",
              "    }\n",
              "</style>\n",
              "<table border=\"1\" class=\"dataframe\">\n",
              "  <thead>\n",
              "    <tr style=\"text-align: right;\">\n",
              "      <th></th>\n",
              "      <th>Unnamed: 0.1</th>\n",
              "      <th>Unnamed: 0</th>\n",
              "      <th>Text</th>\n",
              "      <th>Sentiment</th>\n",
              "      <th>Timestamp</th>\n",
              "      <th>User</th>\n",
              "      <th>Platform</th>\n",
              "      <th>Hashtags</th>\n",
              "      <th>Retweets</th>\n",
              "      <th>Likes</th>\n",
              "      <th>Country</th>\n",
              "      <th>Year</th>\n",
              "      <th>Month</th>\n",
              "      <th>Day</th>\n",
              "      <th>Hour</th>\n",
              "    </tr>\n",
              "  </thead>\n",
              "  <tbody>\n",
              "    <tr>\n",
              "      <th>0</th>\n",
              "      <td>0</td>\n",
              "      <td>0</td>\n",
              "      <td>Enjoying a beautiful day at the park!        ...</td>\n",
              "      <td>Positive</td>\n",
              "      <td>2023-01-15 12:30:00</td>\n",
              "      <td>User123</td>\n",
              "      <td>Twitter</td>\n",
              "      <td>#Nature #Park</td>\n",
              "      <td>15.0</td>\n",
              "      <td>30.0</td>\n",
              "      <td>USA</td>\n",
              "      <td>2023</td>\n",
              "      <td>1</td>\n",
              "      <td>15</td>\n",
              "      <td>12</td>\n",
              "    </tr>\n",
              "    <tr>\n",
              "      <th>1</th>\n",
              "      <td>1</td>\n",
              "      <td>1</td>\n",
              "      <td>Traffic was terrible this morning.           ...</td>\n",
              "      <td>Negative</td>\n",
              "      <td>2023-01-15 08:45:00</td>\n",
              "      <td>CommuterX</td>\n",
              "      <td>Twitter</td>\n",
              "      <td>#Traffic #Morning</td>\n",
              "      <td>5.0</td>\n",
              "      <td>10.0</td>\n",
              "      <td>Canada</td>\n",
              "      <td>2023</td>\n",
              "      <td>1</td>\n",
              "      <td>15</td>\n",
              "      <td>8</td>\n",
              "    </tr>\n",
              "    <tr>\n",
              "      <th>2</th>\n",
              "      <td>2</td>\n",
              "      <td>2</td>\n",
              "      <td>Just finished an amazing workout! 💪          ...</td>\n",
              "      <td>Positive</td>\n",
              "      <td>2023-01-15 15:45:00</td>\n",
              "      <td>FitnessFan</td>\n",
              "      <td>Instagram</td>\n",
              "      <td>#Fitness #Workout</td>\n",
              "      <td>20.0</td>\n",
              "      <td>40.0</td>\n",
              "      <td>USA</td>\n",
              "      <td>2023</td>\n",
              "      <td>1</td>\n",
              "      <td>15</td>\n",
              "      <td>15</td>\n",
              "    </tr>\n",
              "    <tr>\n",
              "      <th>3</th>\n",
              "      <td>3</td>\n",
              "      <td>3</td>\n",
              "      <td>Excited about the upcoming weekend getaway!  ...</td>\n",
              "      <td>Positive</td>\n",
              "      <td>2023-01-15 18:20:00</td>\n",
              "      <td>AdventureX</td>\n",
              "      <td>Facebook</td>\n",
              "      <td>#Travel #Adventure</td>\n",
              "      <td>8.0</td>\n",
              "      <td>15.0</td>\n",
              "      <td>UK</td>\n",
              "      <td>2023</td>\n",
              "      <td>1</td>\n",
              "      <td>15</td>\n",
              "      <td>18</td>\n",
              "    </tr>\n",
              "    <tr>\n",
              "      <th>4</th>\n",
              "      <td>4</td>\n",
              "      <td>4</td>\n",
              "      <td>Trying out a new recipe for dinner tonight.  ...</td>\n",
              "      <td>Neutral</td>\n",
              "      <td>2023-01-15 19:55:00</td>\n",
              "      <td>ChefCook</td>\n",
              "      <td>Instagram</td>\n",
              "      <td>#Cooking #Food</td>\n",
              "      <td>12.0</td>\n",
              "      <td>25.0</td>\n",
              "      <td>Australia</td>\n",
              "      <td>2023</td>\n",
              "      <td>1</td>\n",
              "      <td>15</td>\n",
              "      <td>19</td>\n",
              "    </tr>\n",
              "  </tbody>\n",
              "</table>\n",
              "</div>\n",
              "    <div class=\"colab-df-buttons\">\n",
              "\n",
              "  <div class=\"colab-df-container\">\n",
              "    <button class=\"colab-df-convert\" onclick=\"convertToInteractive('df-b5b1c80d-2be9-43b5-b1d6-0e4b1c86e25a')\"\n",
              "            title=\"Convert this dataframe to an interactive table.\"\n",
              "            style=\"display:none;\">\n",
              "\n",
              "  <svg xmlns=\"http://www.w3.org/2000/svg\" height=\"24px\" viewBox=\"0 -960 960 960\">\n",
              "    <path d=\"M120-120v-720h720v720H120Zm60-500h600v-160H180v160Zm220 220h160v-160H400v160Zm0 220h160v-160H400v160ZM180-400h160v-160H180v160Zm440 0h160v-160H620v160ZM180-180h160v-160H180v160Zm440 0h160v-160H620v160Z\"/>\n",
              "  </svg>\n",
              "    </button>\n",
              "\n",
              "  <style>\n",
              "    .colab-df-container {\n",
              "      display:flex;\n",
              "      gap: 12px;\n",
              "    }\n",
              "\n",
              "    .colab-df-convert {\n",
              "      background-color: #E8F0FE;\n",
              "      border: none;\n",
              "      border-radius: 50%;\n",
              "      cursor: pointer;\n",
              "      display: none;\n",
              "      fill: #1967D2;\n",
              "      height: 32px;\n",
              "      padding: 0 0 0 0;\n",
              "      width: 32px;\n",
              "    }\n",
              "\n",
              "    .colab-df-convert:hover {\n",
              "      background-color: #E2EBFA;\n",
              "      box-shadow: 0px 1px 2px rgba(60, 64, 67, 0.3), 0px 1px 3px 1px rgba(60, 64, 67, 0.15);\n",
              "      fill: #174EA6;\n",
              "    }\n",
              "\n",
              "    .colab-df-buttons div {\n",
              "      margin-bottom: 4px;\n",
              "    }\n",
              "\n",
              "    [theme=dark] .colab-df-convert {\n",
              "      background-color: #3B4455;\n",
              "      fill: #D2E3FC;\n",
              "    }\n",
              "\n",
              "    [theme=dark] .colab-df-convert:hover {\n",
              "      background-color: #434B5C;\n",
              "      box-shadow: 0px 1px 3px 1px rgba(0, 0, 0, 0.15);\n",
              "      filter: drop-shadow(0px 1px 2px rgba(0, 0, 0, 0.3));\n",
              "      fill: #FFFFFF;\n",
              "    }\n",
              "  </style>\n",
              "\n",
              "    <script>\n",
              "      const buttonEl =\n",
              "        document.querySelector('#df-b5b1c80d-2be9-43b5-b1d6-0e4b1c86e25a button.colab-df-convert');\n",
              "      buttonEl.style.display =\n",
              "        google.colab.kernel.accessAllowed ? 'block' : 'none';\n",
              "\n",
              "      async function convertToInteractive(key) {\n",
              "        const element = document.querySelector('#df-b5b1c80d-2be9-43b5-b1d6-0e4b1c86e25a');\n",
              "        const dataTable =\n",
              "          await google.colab.kernel.invokeFunction('convertToInteractive',\n",
              "                                                    [key], {});\n",
              "        if (!dataTable) return;\n",
              "\n",
              "        const docLinkHtml = 'Like what you see? Visit the ' +\n",
              "          '<a target=\"_blank\" href=https://colab.research.google.com/notebooks/data_table.ipynb>data table notebook</a>'\n",
              "          + ' to learn more about interactive tables.';\n",
              "        element.innerHTML = '';\n",
              "        dataTable['output_type'] = 'display_data';\n",
              "        await google.colab.output.renderOutput(dataTable, element);\n",
              "        const docLink = document.createElement('div');\n",
              "        docLink.innerHTML = docLinkHtml;\n",
              "        element.appendChild(docLink);\n",
              "      }\n",
              "    </script>\n",
              "  </div>\n",
              "\n",
              "\n",
              "<div id=\"df-e4077c02-6d86-4881-9354-b3f16c02bb9d\">\n",
              "  <button class=\"colab-df-quickchart\" onclick=\"quickchart('df-e4077c02-6d86-4881-9354-b3f16c02bb9d')\"\n",
              "            title=\"Suggest charts\"\n",
              "            style=\"display:none;\">\n",
              "\n",
              "<svg xmlns=\"http://www.w3.org/2000/svg\" height=\"24px\"viewBox=\"0 0 24 24\"\n",
              "     width=\"24px\">\n",
              "    <g>\n",
              "        <path d=\"M19 3H5c-1.1 0-2 .9-2 2v14c0 1.1.9 2 2 2h14c1.1 0 2-.9 2-2V5c0-1.1-.9-2-2-2zM9 17H7v-7h2v7zm4 0h-2V7h2v10zm4 0h-2v-4h2v4z\"/>\n",
              "    </g>\n",
              "</svg>\n",
              "  </button>\n",
              "\n",
              "<style>\n",
              "  .colab-df-quickchart {\n",
              "      --bg-color: #E8F0FE;\n",
              "      --fill-color: #1967D2;\n",
              "      --hover-bg-color: #E2EBFA;\n",
              "      --hover-fill-color: #174EA6;\n",
              "      --disabled-fill-color: #AAA;\n",
              "      --disabled-bg-color: #DDD;\n",
              "  }\n",
              "\n",
              "  [theme=dark] .colab-df-quickchart {\n",
              "      --bg-color: #3B4455;\n",
              "      --fill-color: #D2E3FC;\n",
              "      --hover-bg-color: #434B5C;\n",
              "      --hover-fill-color: #FFFFFF;\n",
              "      --disabled-bg-color: #3B4455;\n",
              "      --disabled-fill-color: #666;\n",
              "  }\n",
              "\n",
              "  .colab-df-quickchart {\n",
              "    background-color: var(--bg-color);\n",
              "    border: none;\n",
              "    border-radius: 50%;\n",
              "    cursor: pointer;\n",
              "    display: none;\n",
              "    fill: var(--fill-color);\n",
              "    height: 32px;\n",
              "    padding: 0;\n",
              "    width: 32px;\n",
              "  }\n",
              "\n",
              "  .colab-df-quickchart:hover {\n",
              "    background-color: var(--hover-bg-color);\n",
              "    box-shadow: 0 1px 2px rgba(60, 64, 67, 0.3), 0 1px 3px 1px rgba(60, 64, 67, 0.15);\n",
              "    fill: var(--button-hover-fill-color);\n",
              "  }\n",
              "\n",
              "  .colab-df-quickchart-complete:disabled,\n",
              "  .colab-df-quickchart-complete:disabled:hover {\n",
              "    background-color: var(--disabled-bg-color);\n",
              "    fill: var(--disabled-fill-color);\n",
              "    box-shadow: none;\n",
              "  }\n",
              "\n",
              "  .colab-df-spinner {\n",
              "    border: 2px solid var(--fill-color);\n",
              "    border-color: transparent;\n",
              "    border-bottom-color: var(--fill-color);\n",
              "    animation:\n",
              "      spin 1s steps(1) infinite;\n",
              "  }\n",
              "\n",
              "  @keyframes spin {\n",
              "    0% {\n",
              "      border-color: transparent;\n",
              "      border-bottom-color: var(--fill-color);\n",
              "      border-left-color: var(--fill-color);\n",
              "    }\n",
              "    20% {\n",
              "      border-color: transparent;\n",
              "      border-left-color: var(--fill-color);\n",
              "      border-top-color: var(--fill-color);\n",
              "    }\n",
              "    30% {\n",
              "      border-color: transparent;\n",
              "      border-left-color: var(--fill-color);\n",
              "      border-top-color: var(--fill-color);\n",
              "      border-right-color: var(--fill-color);\n",
              "    }\n",
              "    40% {\n",
              "      border-color: transparent;\n",
              "      border-right-color: var(--fill-color);\n",
              "      border-top-color: var(--fill-color);\n",
              "    }\n",
              "    60% {\n",
              "      border-color: transparent;\n",
              "      border-right-color: var(--fill-color);\n",
              "    }\n",
              "    80% {\n",
              "      border-color: transparent;\n",
              "      border-right-color: var(--fill-color);\n",
              "      border-bottom-color: var(--fill-color);\n",
              "    }\n",
              "    90% {\n",
              "      border-color: transparent;\n",
              "      border-bottom-color: var(--fill-color);\n",
              "    }\n",
              "  }\n",
              "</style>\n",
              "\n",
              "  <script>\n",
              "    async function quickchart(key) {\n",
              "      const quickchartButtonEl =\n",
              "        document.querySelector('#' + key + ' button');\n",
              "      quickchartButtonEl.disabled = true;  // To prevent multiple clicks.\n",
              "      quickchartButtonEl.classList.add('colab-df-spinner');\n",
              "      try {\n",
              "        const charts = await google.colab.kernel.invokeFunction(\n",
              "            'suggestCharts', [key], {});\n",
              "      } catch (error) {\n",
              "        console.error('Error during call to suggestCharts:', error);\n",
              "      }\n",
              "      quickchartButtonEl.classList.remove('colab-df-spinner');\n",
              "      quickchartButtonEl.classList.add('colab-df-quickchart-complete');\n",
              "    }\n",
              "    (() => {\n",
              "      let quickchartButtonEl =\n",
              "        document.querySelector('#df-e4077c02-6d86-4881-9354-b3f16c02bb9d button');\n",
              "      quickchartButtonEl.style.display =\n",
              "        google.colab.kernel.accessAllowed ? 'block' : 'none';\n",
              "    })();\n",
              "  </script>\n",
              "</div>\n",
              "\n",
              "    </div>\n",
              "  </div>\n"
            ],
            "application/vnd.google.colaboratory.intrinsic+json": {
              "type": "dataframe",
              "variable_name": "df",
              "summary": "{\n  \"name\": \"df\",\n  \"rows\": 732,\n  \"fields\": [\n    {\n      \"column\": \"Unnamed: 0.1\",\n      \"properties\": {\n        \"dtype\": \"number\",\n        \"std\": 211,\n        \"min\": 0,\n        \"max\": 732,\n        \"num_unique_values\": 732,\n        \"samples\": [\n          605,\n          34,\n          301\n        ],\n        \"semantic_type\": \"\",\n        \"description\": \"\"\n      }\n    },\n    {\n      \"column\": \"Unnamed: 0\",\n      \"properties\": {\n        \"dtype\": \"number\",\n        \"std\": 212,\n        \"min\": 0,\n        \"max\": 736,\n        \"num_unique_values\": 732,\n        \"samples\": [\n          609,\n          35,\n          305\n        ],\n        \"semantic_type\": \"\",\n        \"description\": \"\"\n      }\n    },\n    {\n      \"column\": \"Text\",\n      \"properties\": {\n        \"dtype\": \"string\",\n        \"num_unique_values\": 707,\n        \"samples\": [\n          \"Walking the Great Wall of China, each step a testament to ancient engineering marvels. \",\n          \" Laughter is the key to joy\\u2014attending a stand-up comedy show. \",\n          \" The fear of the unknown is keeping me up at night.    \"\n        ],\n        \"semantic_type\": \"\",\n        \"description\": \"\"\n      }\n    },\n    {\n      \"column\": \"Sentiment\",\n      \"properties\": {\n        \"dtype\": \"category\",\n        \"num_unique_values\": 279,\n        \"samples\": [\n          \" Elation       \",\n          \" Confidence    \",\n          \" Loss \"\n        ],\n        \"semantic_type\": \"\",\n        \"description\": \"\"\n      }\n    },\n    {\n      \"column\": \"Timestamp\",\n      \"properties\": {\n        \"dtype\": \"object\",\n        \"num_unique_values\": 683,\n        \"samples\": [\n          \"2019-12-12 17:00:00\",\n          \"2018-03-10 09:45:00\",\n          \"2022-01-05 10:30:00\"\n        ],\n        \"semantic_type\": \"\",\n        \"description\": \"\"\n      }\n    },\n    {\n      \"column\": \"User\",\n      \"properties\": {\n        \"dtype\": \"string\",\n        \"num_unique_values\": 685,\n        \"samples\": [\n          \" VenomousHeart \",\n          \" GamingEnthusiast \",\n          \" DreamChaser       \"\n        ],\n        \"semantic_type\": \"\",\n        \"description\": \"\"\n      }\n    },\n    {\n      \"column\": \"Platform\",\n      \"properties\": {\n        \"dtype\": \"category\",\n        \"num_unique_values\": 4,\n        \"samples\": [\n          \" Instagram \",\n          \" Twitter \",\n          \" Twitter  \"\n        ],\n        \"semantic_type\": \"\",\n        \"description\": \"\"\n      }\n    },\n    {\n      \"column\": \"Hashtags\",\n      \"properties\": {\n        \"dtype\": \"string\",\n        \"num_unique_values\": 697,\n        \"samples\": [\n          \" #Fulfillment #PuzzleChallenge                \",\n          \" #Nostalgia #ClassicFilmMoments \",\n          \" #Isolation #EmotionalWinter            \"\n        ],\n        \"semantic_type\": \"\",\n        \"description\": \"\"\n      }\n    },\n    {\n      \"column\": \"Retweets\",\n      \"properties\": {\n        \"dtype\": \"number\",\n        \"std\": 7.061286414470444,\n        \"min\": 5.0,\n        \"max\": 40.0,\n        \"num_unique_values\": 26,\n        \"samples\": [\n          18.0,\n          17.0,\n          15.0\n        ],\n        \"semantic_type\": \"\",\n        \"description\": \"\"\n      }\n    },\n    {\n      \"column\": \"Likes\",\n      \"properties\": {\n        \"dtype\": \"number\",\n        \"std\": 14.089848390888775,\n        \"min\": 10.0,\n        \"max\": 80.0,\n        \"num_unique_values\": 38,\n        \"samples\": [\n          31.0,\n          51.0,\n          25.0\n        ],\n        \"semantic_type\": \"\",\n        \"description\": \"\"\n      }\n    },\n    {\n      \"column\": \"Country\",\n      \"properties\": {\n        \"dtype\": \"category\",\n        \"num_unique_values\": 115,\n        \"samples\": [\n          \" France         \",\n          \" Australia \",\n          \" India         \"\n        ],\n        \"semantic_type\": \"\",\n        \"description\": \"\"\n      }\n    },\n    {\n      \"column\": \"Year\",\n      \"properties\": {\n        \"dtype\": \"number\",\n        \"std\": 2,\n        \"min\": 2010,\n        \"max\": 2023,\n        \"num_unique_values\": 14,\n        \"samples\": [\n          2016,\n          2018,\n          2023\n        ],\n        \"semantic_type\": \"\",\n        \"description\": \"\"\n      }\n    },\n    {\n      \"column\": \"Month\",\n      \"properties\": {\n        \"dtype\": \"number\",\n        \"std\": 3,\n        \"min\": 1,\n        \"max\": 12,\n        \"num_unique_values\": 12,\n        \"samples\": [\n          10,\n          7,\n          1\n        ],\n        \"semantic_type\": \"\",\n        \"description\": \"\"\n      }\n    },\n    {\n      \"column\": \"Day\",\n      \"properties\": {\n        \"dtype\": \"number\",\n        \"std\": 8,\n        \"min\": 1,\n        \"max\": 31,\n        \"num_unique_values\": 31,\n        \"samples\": [\n          7,\n          30,\n          3\n        ],\n        \"semantic_type\": \"\",\n        \"description\": \"\"\n      }\n    },\n    {\n      \"column\": \"Hour\",\n      \"properties\": {\n        \"dtype\": \"number\",\n        \"std\": 4,\n        \"min\": 0,\n        \"max\": 23,\n        \"num_unique_values\": 22,\n        \"samples\": [\n          12,\n          20,\n          13\n        ],\n        \"semantic_type\": \"\",\n        \"description\": \"\"\n      }\n    }\n  ]\n}"
            }
          },
          "metadata": {},
          "execution_count": 301
        }
      ]
    },
    {
      "cell_type": "code",
      "source": [
        "df.shape"
      ],
      "metadata": {
        "colab": {
          "base_uri": "https://localhost:8080/"
        },
        "id": "IPawSF8shy_j",
        "outputId": "5ba27d10-9871-43a7-c741-8b891479d6ee"
      },
      "execution_count": 302,
      "outputs": [
        {
          "output_type": "execute_result",
          "data": {
            "text/plain": [
              "(732, 15)"
            ]
          },
          "metadata": {},
          "execution_count": 302
        }
      ]
    },
    {
      "cell_type": "code",
      "source": [
        "df.drop(columns=['Unnamed: 0.1'],inplace=True)\n",
        "df.rename(columns={'Unnamed: 0':'Id'}, inplace=True)\n",
        "df.head()"
      ],
      "metadata": {
        "colab": {
          "base_uri": "https://localhost:8080/",
          "height": 345
        },
        "id": "9afEgOp8xLK3",
        "outputId": "47caf826-f297-4a76-e134-739cf8bfb8d8"
      },
      "execution_count": 303,
      "outputs": [
        {
          "output_type": "execute_result",
          "data": {
            "text/plain": [
              "   Id                                               Text    Sentiment  \\\n",
              "0   0   Enjoying a beautiful day at the park!        ...   Positive     \n",
              "1   1   Traffic was terrible this morning.           ...   Negative     \n",
              "2   2   Just finished an amazing workout! 💪          ...   Positive     \n",
              "3   3   Excited about the upcoming weekend getaway!  ...   Positive     \n",
              "4   4   Trying out a new recipe for dinner tonight.  ...   Neutral      \n",
              "\n",
              "             Timestamp            User     Platform  \\\n",
              "0  2023-01-15 12:30:00   User123          Twitter     \n",
              "1  2023-01-15 08:45:00   CommuterX        Twitter     \n",
              "2  2023-01-15 15:45:00   FitnessFan      Instagram    \n",
              "3  2023-01-15 18:20:00   AdventureX       Facebook    \n",
              "4  2023-01-15 19:55:00   ChefCook        Instagram    \n",
              "\n",
              "                                     Hashtags  Retweets  Likes       Country  \\\n",
              "0   #Nature #Park                                  15.0   30.0     USA         \n",
              "1   #Traffic #Morning                               5.0   10.0     Canada      \n",
              "2   #Fitness #Workout                              20.0   40.0   USA           \n",
              "3   #Travel #Adventure                              8.0   15.0     UK          \n",
              "4   #Cooking #Food                                 12.0   25.0    Australia    \n",
              "\n",
              "   Year  Month  Day  Hour  \n",
              "0  2023      1   15    12  \n",
              "1  2023      1   15     8  \n",
              "2  2023      1   15    15  \n",
              "3  2023      1   15    18  \n",
              "4  2023      1   15    19  "
            ],
            "text/html": [
              "\n",
              "  <div id=\"df-c233bb71-203d-49de-9fd2-009875527fdc\" class=\"colab-df-container\">\n",
              "    <div>\n",
              "<style scoped>\n",
              "    .dataframe tbody tr th:only-of-type {\n",
              "        vertical-align: middle;\n",
              "    }\n",
              "\n",
              "    .dataframe tbody tr th {\n",
              "        vertical-align: top;\n",
              "    }\n",
              "\n",
              "    .dataframe thead th {\n",
              "        text-align: right;\n",
              "    }\n",
              "</style>\n",
              "<table border=\"1\" class=\"dataframe\">\n",
              "  <thead>\n",
              "    <tr style=\"text-align: right;\">\n",
              "      <th></th>\n",
              "      <th>Id</th>\n",
              "      <th>Text</th>\n",
              "      <th>Sentiment</th>\n",
              "      <th>Timestamp</th>\n",
              "      <th>User</th>\n",
              "      <th>Platform</th>\n",
              "      <th>Hashtags</th>\n",
              "      <th>Retweets</th>\n",
              "      <th>Likes</th>\n",
              "      <th>Country</th>\n",
              "      <th>Year</th>\n",
              "      <th>Month</th>\n",
              "      <th>Day</th>\n",
              "      <th>Hour</th>\n",
              "    </tr>\n",
              "  </thead>\n",
              "  <tbody>\n",
              "    <tr>\n",
              "      <th>0</th>\n",
              "      <td>0</td>\n",
              "      <td>Enjoying a beautiful day at the park!        ...</td>\n",
              "      <td>Positive</td>\n",
              "      <td>2023-01-15 12:30:00</td>\n",
              "      <td>User123</td>\n",
              "      <td>Twitter</td>\n",
              "      <td>#Nature #Park</td>\n",
              "      <td>15.0</td>\n",
              "      <td>30.0</td>\n",
              "      <td>USA</td>\n",
              "      <td>2023</td>\n",
              "      <td>1</td>\n",
              "      <td>15</td>\n",
              "      <td>12</td>\n",
              "    </tr>\n",
              "    <tr>\n",
              "      <th>1</th>\n",
              "      <td>1</td>\n",
              "      <td>Traffic was terrible this morning.           ...</td>\n",
              "      <td>Negative</td>\n",
              "      <td>2023-01-15 08:45:00</td>\n",
              "      <td>CommuterX</td>\n",
              "      <td>Twitter</td>\n",
              "      <td>#Traffic #Morning</td>\n",
              "      <td>5.0</td>\n",
              "      <td>10.0</td>\n",
              "      <td>Canada</td>\n",
              "      <td>2023</td>\n",
              "      <td>1</td>\n",
              "      <td>15</td>\n",
              "      <td>8</td>\n",
              "    </tr>\n",
              "    <tr>\n",
              "      <th>2</th>\n",
              "      <td>2</td>\n",
              "      <td>Just finished an amazing workout! 💪          ...</td>\n",
              "      <td>Positive</td>\n",
              "      <td>2023-01-15 15:45:00</td>\n",
              "      <td>FitnessFan</td>\n",
              "      <td>Instagram</td>\n",
              "      <td>#Fitness #Workout</td>\n",
              "      <td>20.0</td>\n",
              "      <td>40.0</td>\n",
              "      <td>USA</td>\n",
              "      <td>2023</td>\n",
              "      <td>1</td>\n",
              "      <td>15</td>\n",
              "      <td>15</td>\n",
              "    </tr>\n",
              "    <tr>\n",
              "      <th>3</th>\n",
              "      <td>3</td>\n",
              "      <td>Excited about the upcoming weekend getaway!  ...</td>\n",
              "      <td>Positive</td>\n",
              "      <td>2023-01-15 18:20:00</td>\n",
              "      <td>AdventureX</td>\n",
              "      <td>Facebook</td>\n",
              "      <td>#Travel #Adventure</td>\n",
              "      <td>8.0</td>\n",
              "      <td>15.0</td>\n",
              "      <td>UK</td>\n",
              "      <td>2023</td>\n",
              "      <td>1</td>\n",
              "      <td>15</td>\n",
              "      <td>18</td>\n",
              "    </tr>\n",
              "    <tr>\n",
              "      <th>4</th>\n",
              "      <td>4</td>\n",
              "      <td>Trying out a new recipe for dinner tonight.  ...</td>\n",
              "      <td>Neutral</td>\n",
              "      <td>2023-01-15 19:55:00</td>\n",
              "      <td>ChefCook</td>\n",
              "      <td>Instagram</td>\n",
              "      <td>#Cooking #Food</td>\n",
              "      <td>12.0</td>\n",
              "      <td>25.0</td>\n",
              "      <td>Australia</td>\n",
              "      <td>2023</td>\n",
              "      <td>1</td>\n",
              "      <td>15</td>\n",
              "      <td>19</td>\n",
              "    </tr>\n",
              "  </tbody>\n",
              "</table>\n",
              "</div>\n",
              "    <div class=\"colab-df-buttons\">\n",
              "\n",
              "  <div class=\"colab-df-container\">\n",
              "    <button class=\"colab-df-convert\" onclick=\"convertToInteractive('df-c233bb71-203d-49de-9fd2-009875527fdc')\"\n",
              "            title=\"Convert this dataframe to an interactive table.\"\n",
              "            style=\"display:none;\">\n",
              "\n",
              "  <svg xmlns=\"http://www.w3.org/2000/svg\" height=\"24px\" viewBox=\"0 -960 960 960\">\n",
              "    <path d=\"M120-120v-720h720v720H120Zm60-500h600v-160H180v160Zm220 220h160v-160H400v160Zm0 220h160v-160H400v160ZM180-400h160v-160H180v160Zm440 0h160v-160H620v160ZM180-180h160v-160H180v160Zm440 0h160v-160H620v160Z\"/>\n",
              "  </svg>\n",
              "    </button>\n",
              "\n",
              "  <style>\n",
              "    .colab-df-container {\n",
              "      display:flex;\n",
              "      gap: 12px;\n",
              "    }\n",
              "\n",
              "    .colab-df-convert {\n",
              "      background-color: #E8F0FE;\n",
              "      border: none;\n",
              "      border-radius: 50%;\n",
              "      cursor: pointer;\n",
              "      display: none;\n",
              "      fill: #1967D2;\n",
              "      height: 32px;\n",
              "      padding: 0 0 0 0;\n",
              "      width: 32px;\n",
              "    }\n",
              "\n",
              "    .colab-df-convert:hover {\n",
              "      background-color: #E2EBFA;\n",
              "      box-shadow: 0px 1px 2px rgba(60, 64, 67, 0.3), 0px 1px 3px 1px rgba(60, 64, 67, 0.15);\n",
              "      fill: #174EA6;\n",
              "    }\n",
              "\n",
              "    .colab-df-buttons div {\n",
              "      margin-bottom: 4px;\n",
              "    }\n",
              "\n",
              "    [theme=dark] .colab-df-convert {\n",
              "      background-color: #3B4455;\n",
              "      fill: #D2E3FC;\n",
              "    }\n",
              "\n",
              "    [theme=dark] .colab-df-convert:hover {\n",
              "      background-color: #434B5C;\n",
              "      box-shadow: 0px 1px 3px 1px rgba(0, 0, 0, 0.15);\n",
              "      filter: drop-shadow(0px 1px 2px rgba(0, 0, 0, 0.3));\n",
              "      fill: #FFFFFF;\n",
              "    }\n",
              "  </style>\n",
              "\n",
              "    <script>\n",
              "      const buttonEl =\n",
              "        document.querySelector('#df-c233bb71-203d-49de-9fd2-009875527fdc button.colab-df-convert');\n",
              "      buttonEl.style.display =\n",
              "        google.colab.kernel.accessAllowed ? 'block' : 'none';\n",
              "\n",
              "      async function convertToInteractive(key) {\n",
              "        const element = document.querySelector('#df-c233bb71-203d-49de-9fd2-009875527fdc');\n",
              "        const dataTable =\n",
              "          await google.colab.kernel.invokeFunction('convertToInteractive',\n",
              "                                                    [key], {});\n",
              "        if (!dataTable) return;\n",
              "\n",
              "        const docLinkHtml = 'Like what you see? Visit the ' +\n",
              "          '<a target=\"_blank\" href=https://colab.research.google.com/notebooks/data_table.ipynb>data table notebook</a>'\n",
              "          + ' to learn more about interactive tables.';\n",
              "        element.innerHTML = '';\n",
              "        dataTable['output_type'] = 'display_data';\n",
              "        await google.colab.output.renderOutput(dataTable, element);\n",
              "        const docLink = document.createElement('div');\n",
              "        docLink.innerHTML = docLinkHtml;\n",
              "        element.appendChild(docLink);\n",
              "      }\n",
              "    </script>\n",
              "  </div>\n",
              "\n",
              "\n",
              "<div id=\"df-0ba185ca-4910-4fad-9048-9a80e2352117\">\n",
              "  <button class=\"colab-df-quickchart\" onclick=\"quickchart('df-0ba185ca-4910-4fad-9048-9a80e2352117')\"\n",
              "            title=\"Suggest charts\"\n",
              "            style=\"display:none;\">\n",
              "\n",
              "<svg xmlns=\"http://www.w3.org/2000/svg\" height=\"24px\"viewBox=\"0 0 24 24\"\n",
              "     width=\"24px\">\n",
              "    <g>\n",
              "        <path d=\"M19 3H5c-1.1 0-2 .9-2 2v14c0 1.1.9 2 2 2h14c1.1 0 2-.9 2-2V5c0-1.1-.9-2-2-2zM9 17H7v-7h2v7zm4 0h-2V7h2v10zm4 0h-2v-4h2v4z\"/>\n",
              "    </g>\n",
              "</svg>\n",
              "  </button>\n",
              "\n",
              "<style>\n",
              "  .colab-df-quickchart {\n",
              "      --bg-color: #E8F0FE;\n",
              "      --fill-color: #1967D2;\n",
              "      --hover-bg-color: #E2EBFA;\n",
              "      --hover-fill-color: #174EA6;\n",
              "      --disabled-fill-color: #AAA;\n",
              "      --disabled-bg-color: #DDD;\n",
              "  }\n",
              "\n",
              "  [theme=dark] .colab-df-quickchart {\n",
              "      --bg-color: #3B4455;\n",
              "      --fill-color: #D2E3FC;\n",
              "      --hover-bg-color: #434B5C;\n",
              "      --hover-fill-color: #FFFFFF;\n",
              "      --disabled-bg-color: #3B4455;\n",
              "      --disabled-fill-color: #666;\n",
              "  }\n",
              "\n",
              "  .colab-df-quickchart {\n",
              "    background-color: var(--bg-color);\n",
              "    border: none;\n",
              "    border-radius: 50%;\n",
              "    cursor: pointer;\n",
              "    display: none;\n",
              "    fill: var(--fill-color);\n",
              "    height: 32px;\n",
              "    padding: 0;\n",
              "    width: 32px;\n",
              "  }\n",
              "\n",
              "  .colab-df-quickchart:hover {\n",
              "    background-color: var(--hover-bg-color);\n",
              "    box-shadow: 0 1px 2px rgba(60, 64, 67, 0.3), 0 1px 3px 1px rgba(60, 64, 67, 0.15);\n",
              "    fill: var(--button-hover-fill-color);\n",
              "  }\n",
              "\n",
              "  .colab-df-quickchart-complete:disabled,\n",
              "  .colab-df-quickchart-complete:disabled:hover {\n",
              "    background-color: var(--disabled-bg-color);\n",
              "    fill: var(--disabled-fill-color);\n",
              "    box-shadow: none;\n",
              "  }\n",
              "\n",
              "  .colab-df-spinner {\n",
              "    border: 2px solid var(--fill-color);\n",
              "    border-color: transparent;\n",
              "    border-bottom-color: var(--fill-color);\n",
              "    animation:\n",
              "      spin 1s steps(1) infinite;\n",
              "  }\n",
              "\n",
              "  @keyframes spin {\n",
              "    0% {\n",
              "      border-color: transparent;\n",
              "      border-bottom-color: var(--fill-color);\n",
              "      border-left-color: var(--fill-color);\n",
              "    }\n",
              "    20% {\n",
              "      border-color: transparent;\n",
              "      border-left-color: var(--fill-color);\n",
              "      border-top-color: var(--fill-color);\n",
              "    }\n",
              "    30% {\n",
              "      border-color: transparent;\n",
              "      border-left-color: var(--fill-color);\n",
              "      border-top-color: var(--fill-color);\n",
              "      border-right-color: var(--fill-color);\n",
              "    }\n",
              "    40% {\n",
              "      border-color: transparent;\n",
              "      border-right-color: var(--fill-color);\n",
              "      border-top-color: var(--fill-color);\n",
              "    }\n",
              "    60% {\n",
              "      border-color: transparent;\n",
              "      border-right-color: var(--fill-color);\n",
              "    }\n",
              "    80% {\n",
              "      border-color: transparent;\n",
              "      border-right-color: var(--fill-color);\n",
              "      border-bottom-color: var(--fill-color);\n",
              "    }\n",
              "    90% {\n",
              "      border-color: transparent;\n",
              "      border-bottom-color: var(--fill-color);\n",
              "    }\n",
              "  }\n",
              "</style>\n",
              "\n",
              "  <script>\n",
              "    async function quickchart(key) {\n",
              "      const quickchartButtonEl =\n",
              "        document.querySelector('#' + key + ' button');\n",
              "      quickchartButtonEl.disabled = true;  // To prevent multiple clicks.\n",
              "      quickchartButtonEl.classList.add('colab-df-spinner');\n",
              "      try {\n",
              "        const charts = await google.colab.kernel.invokeFunction(\n",
              "            'suggestCharts', [key], {});\n",
              "      } catch (error) {\n",
              "        console.error('Error during call to suggestCharts:', error);\n",
              "      }\n",
              "      quickchartButtonEl.classList.remove('colab-df-spinner');\n",
              "      quickchartButtonEl.classList.add('colab-df-quickchart-complete');\n",
              "    }\n",
              "    (() => {\n",
              "      let quickchartButtonEl =\n",
              "        document.querySelector('#df-0ba185ca-4910-4fad-9048-9a80e2352117 button');\n",
              "      quickchartButtonEl.style.display =\n",
              "        google.colab.kernel.accessAllowed ? 'block' : 'none';\n",
              "    })();\n",
              "  </script>\n",
              "</div>\n",
              "\n",
              "    </div>\n",
              "  </div>\n"
            ],
            "application/vnd.google.colaboratory.intrinsic+json": {
              "type": "dataframe",
              "variable_name": "df",
              "summary": "{\n  \"name\": \"df\",\n  \"rows\": 732,\n  \"fields\": [\n    {\n      \"column\": \"Id\",\n      \"properties\": {\n        \"dtype\": \"number\",\n        \"std\": 212,\n        \"min\": 0,\n        \"max\": 736,\n        \"num_unique_values\": 732,\n        \"samples\": [\n          609,\n          35,\n          305\n        ],\n        \"semantic_type\": \"\",\n        \"description\": \"\"\n      }\n    },\n    {\n      \"column\": \"Text\",\n      \"properties\": {\n        \"dtype\": \"string\",\n        \"num_unique_values\": 707,\n        \"samples\": [\n          \"Walking the Great Wall of China, each step a testament to ancient engineering marvels. \",\n          \" Laughter is the key to joy\\u2014attending a stand-up comedy show. \",\n          \" The fear of the unknown is keeping me up at night.    \"\n        ],\n        \"semantic_type\": \"\",\n        \"description\": \"\"\n      }\n    },\n    {\n      \"column\": \"Sentiment\",\n      \"properties\": {\n        \"dtype\": \"category\",\n        \"num_unique_values\": 279,\n        \"samples\": [\n          \" Elation       \",\n          \" Confidence    \",\n          \" Loss \"\n        ],\n        \"semantic_type\": \"\",\n        \"description\": \"\"\n      }\n    },\n    {\n      \"column\": \"Timestamp\",\n      \"properties\": {\n        \"dtype\": \"object\",\n        \"num_unique_values\": 683,\n        \"samples\": [\n          \"2019-12-12 17:00:00\",\n          \"2018-03-10 09:45:00\",\n          \"2022-01-05 10:30:00\"\n        ],\n        \"semantic_type\": \"\",\n        \"description\": \"\"\n      }\n    },\n    {\n      \"column\": \"User\",\n      \"properties\": {\n        \"dtype\": \"string\",\n        \"num_unique_values\": 685,\n        \"samples\": [\n          \" VenomousHeart \",\n          \" GamingEnthusiast \",\n          \" DreamChaser       \"\n        ],\n        \"semantic_type\": \"\",\n        \"description\": \"\"\n      }\n    },\n    {\n      \"column\": \"Platform\",\n      \"properties\": {\n        \"dtype\": \"category\",\n        \"num_unique_values\": 4,\n        \"samples\": [\n          \" Instagram \",\n          \" Twitter \",\n          \" Twitter  \"\n        ],\n        \"semantic_type\": \"\",\n        \"description\": \"\"\n      }\n    },\n    {\n      \"column\": \"Hashtags\",\n      \"properties\": {\n        \"dtype\": \"string\",\n        \"num_unique_values\": 697,\n        \"samples\": [\n          \" #Fulfillment #PuzzleChallenge                \",\n          \" #Nostalgia #ClassicFilmMoments \",\n          \" #Isolation #EmotionalWinter            \"\n        ],\n        \"semantic_type\": \"\",\n        \"description\": \"\"\n      }\n    },\n    {\n      \"column\": \"Retweets\",\n      \"properties\": {\n        \"dtype\": \"number\",\n        \"std\": 7.061286414470444,\n        \"min\": 5.0,\n        \"max\": 40.0,\n        \"num_unique_values\": 26,\n        \"samples\": [\n          18.0,\n          17.0,\n          15.0\n        ],\n        \"semantic_type\": \"\",\n        \"description\": \"\"\n      }\n    },\n    {\n      \"column\": \"Likes\",\n      \"properties\": {\n        \"dtype\": \"number\",\n        \"std\": 14.089848390888775,\n        \"min\": 10.0,\n        \"max\": 80.0,\n        \"num_unique_values\": 38,\n        \"samples\": [\n          31.0,\n          51.0,\n          25.0\n        ],\n        \"semantic_type\": \"\",\n        \"description\": \"\"\n      }\n    },\n    {\n      \"column\": \"Country\",\n      \"properties\": {\n        \"dtype\": \"category\",\n        \"num_unique_values\": 115,\n        \"samples\": [\n          \" France         \",\n          \" Australia \",\n          \" India         \"\n        ],\n        \"semantic_type\": \"\",\n        \"description\": \"\"\n      }\n    },\n    {\n      \"column\": \"Year\",\n      \"properties\": {\n        \"dtype\": \"number\",\n        \"std\": 2,\n        \"min\": 2010,\n        \"max\": 2023,\n        \"num_unique_values\": 14,\n        \"samples\": [\n          2016,\n          2018,\n          2023\n        ],\n        \"semantic_type\": \"\",\n        \"description\": \"\"\n      }\n    },\n    {\n      \"column\": \"Month\",\n      \"properties\": {\n        \"dtype\": \"number\",\n        \"std\": 3,\n        \"min\": 1,\n        \"max\": 12,\n        \"num_unique_values\": 12,\n        \"samples\": [\n          10,\n          7,\n          1\n        ],\n        \"semantic_type\": \"\",\n        \"description\": \"\"\n      }\n    },\n    {\n      \"column\": \"Day\",\n      \"properties\": {\n        \"dtype\": \"number\",\n        \"std\": 8,\n        \"min\": 1,\n        \"max\": 31,\n        \"num_unique_values\": 31,\n        \"samples\": [\n          7,\n          30,\n          3\n        ],\n        \"semantic_type\": \"\",\n        \"description\": \"\"\n      }\n    },\n    {\n      \"column\": \"Hour\",\n      \"properties\": {\n        \"dtype\": \"number\",\n        \"std\": 4,\n        \"min\": 0,\n        \"max\": 23,\n        \"num_unique_values\": 22,\n        \"samples\": [\n          12,\n          20,\n          13\n        ],\n        \"semantic_type\": \"\",\n        \"description\": \"\"\n      }\n    }\n  ]\n}"
            }
          },
          "metadata": {},
          "execution_count": 303
        }
      ]
    },
    {
      "cell_type": "code",
      "source": [
        "df.isnull().sum()"
      ],
      "metadata": {
        "colab": {
          "base_uri": "https://localhost:8080/"
        },
        "id": "PpslJrgBxLNt",
        "outputId": "03291aae-3bdc-4009-e5c6-a6bac3a03237"
      },
      "execution_count": 304,
      "outputs": [
        {
          "output_type": "execute_result",
          "data": {
            "text/plain": [
              "Id           0\n",
              "Text         0\n",
              "Sentiment    0\n",
              "Timestamp    0\n",
              "User         0\n",
              "Platform     0\n",
              "Hashtags     0\n",
              "Retweets     0\n",
              "Likes        0\n",
              "Country      0\n",
              "Year         0\n",
              "Month        0\n",
              "Day          0\n",
              "Hour         0\n",
              "dtype: int64"
            ]
          },
          "metadata": {},
          "execution_count": 304
        }
      ]
    },
    {
      "cell_type": "code",
      "source": [
        "df.drop(['Id'], axis=1, inplace=True,)"
      ],
      "metadata": {
        "id": "waOjWB00xLRG"
      },
      "execution_count": 305,
      "outputs": []
    },
    {
      "cell_type": "code",
      "source": [
        "df.isna().any()"
      ],
      "metadata": {
        "colab": {
          "base_uri": "https://localhost:8080/"
        },
        "id": "ecV5EOyfxLUB",
        "outputId": "ac422788-f6d1-4825-b5d3-07c499fb8cd9"
      },
      "execution_count": 306,
      "outputs": [
        {
          "output_type": "execute_result",
          "data": {
            "text/plain": [
              "Text         False\n",
              "Sentiment    False\n",
              "Timestamp    False\n",
              "User         False\n",
              "Platform     False\n",
              "Hashtags     False\n",
              "Retweets     False\n",
              "Likes        False\n",
              "Country      False\n",
              "Year         False\n",
              "Month        False\n",
              "Day          False\n",
              "Hour         False\n",
              "dtype: bool"
            ]
          },
          "metadata": {},
          "execution_count": 306
        }
      ]
    },
    {
      "cell_type": "code",
      "source": [
        "df.dtypes"
      ],
      "metadata": {
        "colab": {
          "base_uri": "https://localhost:8080/"
        },
        "id": "kangGi7_xLXT",
        "outputId": "55fc2294-a610-4653-bce4-010aece700e1"
      },
      "execution_count": 307,
      "outputs": [
        {
          "output_type": "execute_result",
          "data": {
            "text/plain": [
              "Text          object\n",
              "Sentiment     object\n",
              "Timestamp     object\n",
              "User          object\n",
              "Platform      object\n",
              "Hashtags      object\n",
              "Retweets     float64\n",
              "Likes        float64\n",
              "Country       object\n",
              "Year           int64\n",
              "Month          int64\n",
              "Day            int64\n",
              "Hour           int64\n",
              "dtype: object"
            ]
          },
          "metadata": {},
          "execution_count": 307
        }
      ]
    },
    {
      "cell_type": "code",
      "source": [
        "df.isna().sum()"
      ],
      "metadata": {
        "colab": {
          "base_uri": "https://localhost:8080/"
        },
        "id": "U5SDlasUxLZ1",
        "outputId": "bb025e12-4e07-4a30-ea25-54833735ff0c"
      },
      "execution_count": 308,
      "outputs": [
        {
          "output_type": "execute_result",
          "data": {
            "text/plain": [
              "Text         0\n",
              "Sentiment    0\n",
              "Timestamp    0\n",
              "User         0\n",
              "Platform     0\n",
              "Hashtags     0\n",
              "Retweets     0\n",
              "Likes        0\n",
              "Country      0\n",
              "Year         0\n",
              "Month        0\n",
              "Day          0\n",
              "Hour         0\n",
              "dtype: int64"
            ]
          },
          "metadata": {},
          "execution_count": 308
        }
      ]
    },
    {
      "cell_type": "code",
      "source": [
        "df.Text.duplicated().any()"
      ],
      "metadata": {
        "colab": {
          "base_uri": "https://localhost:8080/"
        },
        "id": "xBW9fRo_y5Jj",
        "outputId": "7a9cfa35-a4dc-4e3b-f1bc-0a685d22f2de"
      },
      "execution_count": 309,
      "outputs": [
        {
          "output_type": "execute_result",
          "data": {
            "text/plain": [
              "True"
            ]
          },
          "metadata": {},
          "execution_count": 309
        }
      ]
    },
    {
      "cell_type": "code",
      "source": [
        "df.Sentiment.value_counts()"
      ],
      "metadata": {
        "colab": {
          "base_uri": "https://localhost:8080/"
        },
        "id": "KA_tGZb-xLcc",
        "outputId": "88e88b55-3e68-4400-9d24-025ea033e9a2"
      },
      "execution_count": 310,
      "outputs": [
        {
          "output_type": "execute_result",
          "data": {
            "text/plain": [
              " Positive           44\n",
              " Joy                42\n",
              " Excitement         32\n",
              " Neutral            14\n",
              " Contentment        14\n",
              "                    ..\n",
              " Adrenaline          1\n",
              " Harmony             1\n",
              " ArtisticBurst       1\n",
              " Radiance            1\n",
              " Elegance            1\n",
              "Name: Sentiment, Length: 279, dtype: int64"
            ]
          },
          "metadata": {},
          "execution_count": 310
        }
      ]
    },
    {
      "source": [
        "df.groupby('Platform').size().plot(kind='barh', color=sns.palettes.mpl_palette('Dark2'))\n",
        "plt.gca().spines[['top', 'right',]].set_visible(False)"
      ],
      "cell_type": "code",
      "execution_count": 311,
      "outputs": [
        {
          "output_type": "display_data",
          "data": {
            "text/plain": [
              "<Figure size 640x480 with 1 Axes>"
            ],
            "image/png": "[encoded data removed]"
          },
          "metadata": {}
        }
      ],
      "metadata": {
        "colab": {
          "base_uri": "https://localhost:8080/",
          "height": 430
        },
        "id": "DN5OMxHDhJCd",
        "outputId": "343b5dfe-5eb7-4d85-9a2c-8f4f6fe02cf8"
      }
    },
    {
      "cell_type": "code",
      "source": [
        "df['Platform'].value_counts().plot(kind='pie', autopct='%1.1f%%')\n",
        "plt.title('Percentages of Platforms')\n",
        "plt.legend()\n",
        "plt.show()"
      ],
      "metadata": {
        "colab": {
          "base_uri": "https://localhost:8080/",
          "height": 428
        },
        "id": "gRSH2S2AiP35",
        "outputId": "e2e4cc70-8aa0-4f8b-f08b-06cce9c43cb4"
      },
      "execution_count": 312,
      "outputs": [
        {
          "output_type": "display_data",
          "data": {
            "text/plain": [
              "<Figure size 640x480 with 1 Axes>"
            ],
            "image/png": "[encoded data removed]"
          },
          "metadata": {}
        }
      ]
    },
    {
      "cell_type": "code",
      "source": [
        "df.head()['Sentiment'].value_counts().plot(kind='barh', color=sns.color_palette('Dark2'))\n",
        "plt.gca().spines['top'].set_visible(False)\n",
        "plt.gca().spines['right'].set_visible(False)\n",
        "plt.show()"
      ],
      "metadata": {
        "colab": {
          "base_uri": "https://localhost:8080/",
          "height": 430
        },
        "id": "tV7A9ogazXKY",
        "outputId": "f3d87496-4354-4d9a-faae-578c80df426e"
      },
      "execution_count": 313,
      "outputs": [
        {
          "output_type": "display_data",
          "data": {
            "text/plain": [
              "<Figure size 640x480 with 1 Axes>"
            ],
            "image/png": "[encoded data removed]"
          },
          "metadata": {}
        }
      ]
    },
    {
      "cell_type": "code",
      "source": [
        "df['Sentiment'].value_counts().nlargest(10).plot(kind='bar')\n",
        "plt.title('Top10 Sentiments based on Text')\n",
        "plt.xlabel('Sentiment')\n",
        "plt.ylabel('Count')\n",
        "plt.show()"
      ],
      "metadata": {
        "colab": {
          "base_uri": "https://localhost:8080/",
          "height": 558
        },
        "id": "ESxhJCWQiPnZ",
        "outputId": "a6e783ab-7d85-44b9-cc08-67ac26ea766e"
      },
      "execution_count": 314,
      "outputs": [
        {
          "output_type": "display_data",
          "data": {
            "text/plain": [
              "<Figure size 640x480 with 1 Axes>"
            ],
            "image/png": "[encoded data removed]"
          },
          "metadata": {}
        }
      ]
    },
    {
      "cell_type": "code",
      "source": [
        "labels_counts = pd.DataFrame(df.Sentiment.value_counts())"
      ],
      "metadata": {
        "id": "iJoeOWK-xLgZ"
      },
      "execution_count": 315,
      "outputs": []
    },
    {
      "cell_type": "code",
      "source": [
        "import spacy"
      ],
      "metadata": {
        "id": "dY26fhnbz8FL"
      },
      "execution_count": 316,
      "outputs": []
    },
    {
      "cell_type": "code",
      "source": [
        "nlp = spacy.load(\"en_core_web_sm\")"
      ],
      "metadata": {
        "id": "TOibYDWMxLjg"
      },
      "execution_count": 317,
      "outputs": []
    },
    {
      "cell_type": "code",
      "source": [
        "def preprocess_data(Text):\n",
        "    tokens = nlp(Text)\n",
        "    filtered_token = []\n",
        "    for token in tokens:\n",
        "        if token.is_punct or token.is_stop:\n",
        "            continue\n",
        "        filtered_token.append(token.lemma_)\n",
        "    return \" \".join(filtered_token)"
      ],
      "metadata": {
        "id": "UjxR64cQHMY-"
      },
      "execution_count": 318,
      "outputs": []
    },
    {
      "cell_type": "code",
      "source": [
        "df['preprocessed_data'] = df.Text.apply(preprocess_data)"
      ],
      "metadata": {
        "id": "t_mEff4YxLpJ"
      },
      "execution_count": 319,
      "outputs": []
    },
    {
      "cell_type": "code",
      "source": [
        "from sklearn.preprocessing import LabelEncoder"
      ],
      "metadata": {
        "id": "YFKsuwFhxLsq"
      },
      "execution_count": 320,
      "outputs": []
    },
    {
      "cell_type": "code",
      "source": [
        "encoder = LabelEncoder()\n",
        "df.Sentiment = encoder.fit_transform(df.Sentiment)"
      ],
      "metadata": {
        "id": "RQCoG3KtxLv_"
      },
      "execution_count": 321,
      "outputs": []
    },
    {
      "cell_type": "code",
      "source": [
        "encoder.classes_"
      ],
      "metadata": {
        "colab": {
          "base_uri": "https://localhost:8080/"
        },
        "id": "C6ceNSasxLzB",
        "outputId": "b62f55e6-c22c-4479-dc8b-0cea40c0c051"
      },
      "execution_count": 322,
      "outputs": [
        {
          "output_type": "execute_result",
          "data": {
            "text/plain": [
              "array([' Acceptance   ', ' Acceptance      ', ' Accomplishment ',\n",
              "       ' Admiration ', ' Admiration   ', ' Admiration    ',\n",
              "       ' Adoration    ', ' Adrenaline     ', ' Adventure ',\n",
              "       ' Affection    ', ' Amazement ', ' Ambivalence ',\n",
              "       ' Ambivalence     ', ' Amusement    ', ' Amusement     ',\n",
              "       ' Anger        ', ' Anticipation ', ' Anticipation  ',\n",
              "       ' Anxiety   ', ' Anxiety         ', ' Appreciation  ',\n",
              "       ' Apprehensive ', ' Arousal       ', ' ArtisticBurst ', ' Awe ',\n",
              "       ' Awe    ', ' Awe          ', ' Awe           ', ' Bad ',\n",
              "       ' Betrayal ', ' Betrayal      ', ' Bitter       ', ' Bitterness ',\n",
              "       ' Bittersweet ', ' Blessed       ', ' Boredom ',\n",
              "       ' Boredom         ', ' Breakthrough ', ' Calmness     ',\n",
              "       ' Calmness      ', ' Captivation ', ' Celebration ',\n",
              "       ' Celestial Wonder ', ' Challenge ', ' Charm ', ' Colorful ',\n",
              "       ' Compassion', ' Compassion    ', ' Compassionate ',\n",
              "       ' Confidence    ', ' Confident ', ' Confusion ', ' Confusion    ',\n",
              "       ' Confusion       ', ' Connection ', ' Contemplation ',\n",
              "       ' Contentment ', ' Contentment   ', ' Coziness     ',\n",
              "       ' Creative Inspiration ', ' Creativity ', ' Creativity   ',\n",
              "       ' Culinary Adventure ', ' CulinaryOdyssey ', ' Curiosity ',\n",
              "       ' Curiosity  ', ' Curiosity   ', ' Curiosity     ',\n",
              "       ' Curiosity       ', ' Darkness     ', ' Dazzle        ',\n",
              "       ' Desolation ', ' Despair ', ' Despair   ', ' Despair      ',\n",
              "       ' Despair         ', ' Desperation ', ' Determination ',\n",
              "       ' Determination   ', ' Devastated ', ' Disappointed ',\n",
              "       ' Disappointment ', ' Disgust ', ' Disgust      ',\n",
              "       ' Disgust         ', ' Dismissive ', ' DreamChaser   ',\n",
              "       ' Ecstasy ', ' Elation   ', ' Elation       ', ' Elegance ',\n",
              "       ' Embarrassed ', ' Emotion ', ' EmotionalStorm ', ' Empathetic ',\n",
              "       ' Empowerment   ', ' Enchantment ', ' Enchantment   ', ' Energy ',\n",
              "       ' Engagement ', ' Enjoyment    ', ' Enthusiasm ',\n",
              "       ' Enthusiasm    ', ' Envious ', ' Envisioning History ',\n",
              "       ' Envy            ', ' Euphoria ', ' Euphoria   ',\n",
              "       ' Euphoria     ', ' Euphoria      ', ' Excitement ',\n",
              "       ' Excitement   ', ' Excitement    ', ' Exhaustion ',\n",
              "       ' Exploration ', ' Fear         ', ' Fearful ', ' FestiveJoy    ',\n",
              "       ' Free-spirited ', ' Freedom       ', ' Friendship ',\n",
              "       ' Frustrated ', ' Frustration ', ' Frustration     ',\n",
              "       ' Fulfillment  ', ' Fulfillment   ', ' Grandeur ', ' Grateful ',\n",
              "       ' Gratitude ', ' Gratitude  ', ' Gratitude   ', ' Gratitude    ',\n",
              "       ' Gratitude     ', ' Grief ', ' Grief      ', ' Grief           ',\n",
              "       ' Happiness ', ' Happiness    ', ' Happiness     ', ' Happy ',\n",
              "       ' Harmony ', ' Harmony    ', ' Harmony       ', ' Hate ',\n",
              "       ' Heartache ', ' Heartbreak ', ' Heartbreak    ', ' Heartwarming ',\n",
              "       ' Helplessness ', ' Helplessness    ', ' Hope ', ' Hope          ',\n",
              "       ' Hopeful ', ' Hypnotic ', ' Iconic ', ' Imagination ',\n",
              "       ' Immersion ', ' Indifference ', ' Indifference    ',\n",
              "       ' InnerJourney  ', ' Inspiration ', ' Inspiration  ',\n",
              "       ' Inspiration   ', ' Inspired ', ' Intimidation ',\n",
              "       ' Intimidation    ', ' Intrigue      ', ' Isolation ', ' Jealous ',\n",
              "       ' Jealousy    ', ' Jealousy        ', ' Journey ', ' Joy ',\n",
              "       ' Joy          ', ' Joy in Baking ', ' JoyfulReunion ',\n",
              "       ' Kind         ', ' Kindness ', ' Loneliness ', ' Loneliness    ',\n",
              "       ' Loneliness      ', ' Loss ', ' LostLove ', ' Love ',\n",
              "       ' Love         ', ' Marvel       ', ' Melancholy ',\n",
              "       ' Melancholy      ', ' Melodic       ', ' Mesmerizing ',\n",
              "       ' Mindfulness   ', ' Miscalculation ', ' Mischievous ',\n",
              "       ' Motivation    ', \" Nature's Beauty \", ' Negative  ', ' Neutral ',\n",
              "       ' Neutral   ', ' Nostalgia ', ' Nostalgia     ',\n",
              "       ' Nostalgia      ', ' Nostalgia       ', ' Numbness ',\n",
              "       ' Numbness        ', ' Obstacle ', \" Ocean's Freedom \",\n",
              "       ' Optimism      ', ' Overjoyed     ', ' Overwhelmed ',\n",
              "       ' Overwhelmed   ', ' Pensive ', ' Playful ', ' PlayfulJoy    ',\n",
              "       ' Positive ', ' Positive  ', ' Positivity ', ' Pressure ',\n",
              "       ' Pride ', ' Pride        ', ' Pride         ', ' Proud ',\n",
              "       ' Radiance    ', ' Radiance      ', ' Reflection ',\n",
              "       ' Reflection    ', ' Regret ', ' Regret        ',\n",
              "       ' Regret         ', ' Rejuvenation ', ' Relief ',\n",
              "       ' Renewed Effort ', ' Resentment      ', ' Resilience ',\n",
              "       ' Resilience   ', ' Reverence ', ' Reverence     ', ' Romance ',\n",
              "       ' Ruins      ', ' Runway Creativity ', ' Sad ', ' Sadness      ',\n",
              "       ' Satisfaction ', ' Satisfaction  ', ' Serenity ', ' Serenity   ',\n",
              "       ' Serenity      ', ' Serenity        ', ' Shame ',\n",
              "       ' Shame        ', ' Solace ', ' Solitude ', ' Sorrow ',\n",
              "       ' Sorrow      ', ' Spark        ', ' Success ', ' Suffering ',\n",
              "       ' Surprise ', ' Surprise     ', ' Surprise      ', ' Suspense ',\n",
              "       ' Sympathy ', ' Tenderness    ', ' Thrill ', ' Thrill      ',\n",
              "       ' Thrill        ', ' Thrilling Journey ', ' Touched ',\n",
              "       ' Tranquility ', ' Triumph ', ' Vibrancy ', ' Whimsy        ',\n",
              "       ' Whispers of the Past ', ' Winter Magic ', ' Wonder ',\n",
              "       ' Wonder     ', ' Wonder       ', ' Wonderment    ', ' Yearning ',\n",
              "       ' Zest '], dtype=object)"
            ]
          },
          "metadata": {},
          "execution_count": 322
        }
      ]
    },
    {
      "cell_type": "code",
      "source": [
        "X = df['preprocessed_data']\n",
        "y = df['Sentiment']"
      ],
      "metadata": {
        "id": "tuwmuVT70hoC"
      },
      "execution_count": 323,
      "outputs": []
    },
    {
      "cell_type": "code",
      "source": [
        "from sklearn.model_selection import train_test_split"
      ],
      "metadata": {
        "id": "6qNWgSmc0h14"
      },
      "execution_count": 324,
      "outputs": []
    },
    {
      "cell_type": "code",
      "source": [
        "x_train, x_test, y_train,y_test = train_test_split(X, y, random_state=42, test_size=0.2)"
      ],
      "metadata": {
        "id": "w8OTWKA80h5N"
      },
      "execution_count": 325,
      "outputs": []
    },
    {
      "cell_type": "code",
      "source": [
        "from sklearn.feature_extraction.text import TfidfVectorizer"
      ],
      "metadata": {
        "id": "Yuh-jUQ8xL2j"
      },
      "execution_count": 326,
      "outputs": []
    },
    {
      "cell_type": "code",
      "source": [
        "v = TfidfVectorizer()\n",
        "X_train_normalized = v.fit_transform(x_train)\n",
        "X_test_normalized = v.transform(x_test)"
      ],
      "metadata": {
        "id": "1xmvTnm40vGy"
      },
      "execution_count": 327,
      "outputs": []
    },
    {
      "cell_type": "code",
      "source": [
        "from sklearn.naive_bayes import MultinomialNB"
      ],
      "metadata": {
        "id": "_dyKLMJc0vKK"
      },
      "execution_count": 328,
      "outputs": []
    },
    {
      "cell_type": "code",
      "source": [
        "nb_clf = MultinomialNB()\n",
        "nb_clf.fit(X_train_normalized, y_train)"
      ],
      "metadata": {
        "colab": {
          "base_uri": "https://localhost:8080/",
          "height": 74
        },
        "id": "7v11dDBz0vNI",
        "outputId": "3ec127d6-258e-4f61-c54a-0c6ba1b33c4c"
      },
      "execution_count": 329,
      "outputs": [
        {
          "output_type": "execute_result",
          "data": {
            "text/plain": [
              "MultinomialNB()"
            ],
            "text/html": [
              "<style>#sk-container-id-11 {color: black;background-color: white;}#sk-container-id-11 pre{padding: 0;}#sk-container-id-11 div.sk-toggleable {background-color: white;}#sk-container-id-11 label.sk-toggleable__label {cursor: pointer;display: block;width: 100%;margin-bottom: 0;padding: 0.3em;box-sizing: border-box;text-align: center;}#sk-container-id-11 label.sk-toggleable__label-arrow:before {content: \"▸\";float: left;margin-right: 0.25em;color: #696969;}#sk-container-id-11 label.sk-toggleable__label-arrow:hover:before {color: black;}#sk-container-id-11 div.sk-estimator:hover label.sk-toggleable__label-arrow:before {color: black;}#sk-container-id-11 div.sk-toggleable__content {max-height: 0;max-width: 0;overflow: hidden;text-align: left;background-color: #f0f8ff;}#sk-container-id-11 div.sk-toggleable__content pre {margin: 0.2em;color: black;border-radius: 0.25em;background-color: #f0f8ff;}#sk-container-id-11 input.sk-toggleable__control:checked~div.sk-toggleable__content {max-height: 200px;max-width: 100%;overflow: auto;}#sk-container-id-11 input.sk-toggleable__control:checked~label.sk-toggleable__label-arrow:before {content: \"▾\";}#sk-container-id-11 div.sk-estimator input.sk-toggleable__control:checked~label.sk-toggleable__label {background-color: #d4ebff;}#sk-container-id-11 div.sk-label input.sk-toggleable__control:checked~label.sk-toggleable__label {background-color: #d4ebff;}#sk-container-id-11 input.sk-hidden--visually {border: 0;clip: rect(1px 1px 1px 1px);clip: rect(1px, 1px, 1px, 1px);height: 1px;margin: -1px;overflow: hidden;padding: 0;position: absolute;width: 1px;}#sk-container-id-11 div.sk-estimator {font-family: monospace;background-color: #f0f8ff;border: 1px dotted black;border-radius: 0.25em;box-sizing: border-box;margin-bottom: 0.5em;}#sk-container-id-11 div.sk-estimator:hover {background-color: #d4ebff;}#sk-container-id-11 div.sk-parallel-item::after {content: \"\";width: 100%;border-bottom: 1px solid gray;flex-grow: 1;}#sk-container-id-11 div.sk-label:hover label.sk-toggleable__label {background-color: #d4ebff;}#sk-container-id-11 div.sk-serial::before {content: \"\";position: absolute;border-left: 1px solid gray;box-sizing: border-box;top: 0;bottom: 0;left: 50%;z-index: 0;}#sk-container-id-11 div.sk-serial {display: flex;flex-direction: column;align-items: center;background-color: white;padding-right: 0.2em;padding-left: 0.2em;position: relative;}#sk-container-id-11 div.sk-item {position: relative;z-index: 1;}#sk-container-id-11 div.sk-parallel {display: flex;align-items: stretch;justify-content: center;background-color: white;position: relative;}#sk-container-id-11 div.sk-item::before, #sk-container-id-11 div.sk-parallel-item::before {content: \"\";position: absolute;border-left: 1px solid gray;box-sizing: border-box;top: 0;bottom: 0;left: 50%;z-index: -1;}#sk-container-id-11 div.sk-parallel-item {display: flex;flex-direction: column;z-index: 1;position: relative;background-color: white;}#sk-container-id-11 div.sk-parallel-item:first-child::after {align-self: flex-end;width: 50%;}#sk-container-id-11 div.sk-parallel-item:last-child::after {align-self: flex-start;width: 50%;}#sk-container-id-11 div.sk-parallel-item:only-child::after {width: 0;}#sk-container-id-11 div.sk-dashed-wrapped {border: 1px dashed gray;margin: 0 0.4em 0.5em 0.4em;box-sizing: border-box;padding-bottom: 0.4em;background-color: white;}#sk-container-id-11 div.sk-label label {font-family: monospace;font-weight: bold;display: inline-block;line-height: 1.2em;}#sk-container-id-11 div.sk-label-container {text-align: center;}#sk-container-id-11 div.sk-container {/* jupyter's `normalize.less` sets `[hidden] { display: none; }` but bootstrap.min.css set `[hidden] { display: none !important; }` so we also need the `!important` here to be able to override the default hidden behavior on the sphinx rendered scikit-learn.org. See: https://github.com/scikit-learn/scikit-learn/issues/21755 */display: inline-block !important;position: relative;}#sk-container-id-11 div.sk-text-repr-fallback {display: none;}</style><div id=\"sk-container-id-11\" class=\"sk-top-container\"><div class=\"sk-text-repr-fallback\"><pre>MultinomialNB()</pre><b>In a Jupyter environment, please rerun this cell to show the HTML representation or trust the notebook. <br />On GitHub, the HTML representation is unable to render, please try loading this page with nbviewer.org.</b></div><div class=\"sk-container\" hidden><div class=\"sk-item\"><div class=\"sk-estimator sk-toggleable\"><input class=\"sk-toggleable__control sk-hidden--visually\" id=\"sk-estimator-id-11\" type=\"checkbox\" checked><label for=\"sk-estimator-id-11\" class=\"sk-toggleable__label sk-toggleable__label-arrow\">MultinomialNB</label><div class=\"sk-toggleable__content\"><pre>MultinomialNB()</pre></div></div></div></div></div>"
            ]
          },
          "metadata": {},
          "execution_count": 329
        }
      ]
    },
    {
      "cell_type": "code",
      "source": [
        "y_pred = nb_clf.predict(X_test_normalized)"
      ],
      "metadata": {
        "id": "rNiLuE-O0vSE"
      },
      "execution_count": 330,
      "outputs": []
    },
    {
      "cell_type": "code",
      "source": [
        "from sklearn.metrics import accuracy_score, classification_report"
      ],
      "metadata": {
        "id": "rbBCMseh06oU"
      },
      "execution_count": 331,
      "outputs": []
    },
    {
      "cell_type": "code",
      "source": [
        "print(accuracy_score(y_test, y_pred))"
      ],
      "metadata": {
        "colab": {
          "base_uri": "https://localhost:8080/"
        },
        "id": "Y1vQYfoO06rV",
        "outputId": "2d33cf90-b42a-43de-8341-7192d5efaed9"
      },
      "execution_count": 332,
      "outputs": [
        {
          "output_type": "stream",
          "name": "stdout",
          "text": [
            "0.10204081632653061\n"
          ]
        }
      ]
    },
    {
      "cell_type": "code",
      "source": [
        "print(classification_report(y_test, y_pred))"
      ],
      "metadata": {
        "colab": {
          "base_uri": "https://localhost:8080/"
        },
        "id": "LrjKgsvT06ua",
        "outputId": "69f2cd52-065d-4a99-fd8d-b838ad11c560"
      },
      "execution_count": 333,
      "outputs": [
        {
          "output_type": "stream",
          "name": "stdout",
          "text": [
            "              precision    recall  f1-score   support\n",
            "\n",
            "           0       0.00      0.00      0.00         2\n",
            "           3       0.00      0.00      0.00         1\n",
            "           5       0.00      0.00      0.00         1\n",
            "           9       0.00      0.00      0.00         1\n",
            "          12       0.00      0.00      0.00         1\n",
            "          15       0.00      0.00      0.00         1\n",
            "          17       0.00      0.00      0.00         1\n",
            "          22       0.00      0.00      0.00         3\n",
            "          24       0.00      0.00      0.00         1\n",
            "          26       0.00      0.00      0.00         1\n",
            "          28       0.00      0.00      0.00         1\n",
            "          29       0.00      0.00      0.00         2\n",
            "          30       0.00      0.00      0.00         1\n",
            "          31       0.00      0.00      0.00         1\n",
            "          32       0.00      0.00      0.00         1\n",
            "          33       0.00      0.00      0.00         1\n",
            "          35       0.00      0.00      0.00         1\n",
            "          38       0.00      0.00      0.00         1\n",
            "          40       0.00      0.00      0.00         1\n",
            "          42       0.00      0.00      0.00         1\n",
            "          45       0.00      0.00      0.00         1\n",
            "          53       0.00      0.00      0.00         3\n",
            "          54       0.00      0.00      0.00         1\n",
            "          55       0.00      0.00      0.00         1\n",
            "          56       0.00      0.00      0.00         3\n",
            "          57       0.00      0.00      0.00         1\n",
            "          58       0.00      0.00      0.00         1\n",
            "          61       0.00      0.00      0.00         1\n",
            "          64       0.00      0.00      0.00         2\n",
            "          66       0.00      0.00      0.00         1\n",
            "          68       0.00      0.00      0.00         2\n",
            "          71       0.00      0.00      0.00         1\n",
            "          79       0.00      0.00      0.00         2\n",
            "          82       0.00      0.00      0.00         1\n",
            "          83       0.00      0.00      0.00         2\n",
            "          89       0.00      0.00      0.00         3\n",
            "          90       0.00      0.00      0.00         1\n",
            "          91       0.00      0.00      0.00         1\n",
            "          93       0.00      0.00      0.00         1\n",
            "          95       0.00      0.00      0.00         1\n",
            "         100       0.00      0.00      0.00         2\n",
            "         101       0.00      0.00      0.00         1\n",
            "         103       0.00      0.00      0.00         2\n",
            "         104       0.00      0.00      0.00         1\n",
            "         108       0.00      0.00      0.00         1\n",
            "         110       0.06      0.33      0.10         3\n",
            "         111       0.00      0.00      0.00         3\n",
            "         112       0.00      0.00      0.00         1\n",
            "         115       0.00      0.00      0.00         1\n",
            "         116       0.00      0.00      0.00         1\n",
            "         121       0.00      0.00      0.00         1\n",
            "         122       0.00      0.00      0.00         3\n",
            "         124       0.00      0.00      0.00         2\n",
            "         127       0.00      0.00      0.00         1\n",
            "         135       0.00      0.00      0.00         1\n",
            "         139       0.00      0.00      0.00         6\n",
            "         143       0.00      0.00      0.00         2\n",
            "         145       0.00      0.00      0.00         2\n",
            "         152       1.00      1.00      1.00         1\n",
            "         159       0.00      0.00      0.00         1\n",
            "         162       0.00      0.00      0.00         1\n",
            "         163       0.00      0.00      0.00         1\n",
            "         167       0.00      0.00      0.00         1\n",
            "         169       0.00      0.00      0.00         1\n",
            "         172       0.16      0.88      0.27         8\n",
            "         173       0.00      0.00      0.00         1\n",
            "         175       0.00      0.00      0.00         1\n",
            "         176       0.00      0.00      0.00         1\n",
            "         178       0.00      0.00      0.00         1\n",
            "         180       0.00      0.00      0.00         1\n",
            "         182       0.00      0.00      0.00         1\n",
            "         187       0.00      0.00      0.00         2\n",
            "         191       0.00      0.00      0.00         1\n",
            "         196       0.00      0.00      0.00         1\n",
            "         199       0.00      0.00      0.00         1\n",
            "         201       0.00      0.00      0.00         1\n",
            "         203       0.00      0.00      0.00         1\n",
            "         208       0.00      0.00      0.00         1\n",
            "         211       0.00      0.00      0.00         2\n",
            "         214       0.07      0.67      0.13         9\n",
            "         220       0.00      0.00      0.00         1\n",
            "         224       0.00      0.00      0.00         1\n",
            "         227       0.00      0.00      0.00         1\n",
            "         232       0.00      0.00      0.00         1\n",
            "         234       0.00      0.00      0.00         1\n",
            "         240       0.00      0.00      0.00         2\n",
            "         242       0.00      0.00      0.00         1\n",
            "         243       0.00      0.00      0.00         2\n",
            "         246       0.00      0.00      0.00         2\n",
            "         250       0.00      0.00      0.00         1\n",
            "         252       0.00      0.00      0.00         1\n",
            "         253       0.00      0.00      0.00         1\n",
            "         257       0.00      0.00      0.00         1\n",
            "         264       0.00      0.00      0.00         1\n",
            "         269       0.00      0.00      0.00         1\n",
            "         271       0.00      0.00      0.00         1\n",
            "         278       0.00      0.00      0.00         1\n",
            "\n",
            "    accuracy                           0.10       147\n",
            "   macro avg       0.01      0.03      0.02       147\n",
            "weighted avg       0.02      0.10      0.03       147\n",
            "\n"
          ]
        },
        {
          "output_type": "stream",
          "name": "stderr",
          "text": [
            "/usr/local/lib/python3.10/dist-packages/sklearn/metrics/_classification.py:1344: UndefinedMetricWarning: Precision and F-score are ill-defined and being set to 0.0 in labels with no predicted samples. Use `zero_division` parameter to control this behavior.\n",
            "  _warn_prf(average, modifier, msg_start, len(result))\n",
            "/usr/local/lib/python3.10/dist-packages/sklearn/metrics/_classification.py:1344: UndefinedMetricWarning: Precision and F-score are ill-defined and being set to 0.0 in labels with no predicted samples. Use `zero_division` parameter to control this behavior.\n",
            "  _warn_prf(average, modifier, msg_start, len(result))\n",
            "/usr/local/lib/python3.10/dist-packages/sklearn/metrics/_classification.py:1344: UndefinedMetricWarning: Precision and F-score are ill-defined and being set to 0.0 in labels with no predicted samples. Use `zero_division` parameter to control this behavior.\n",
            "  _warn_prf(average, modifier, msg_start, len(result))\n"
          ]
        }
      ]
    },
    {
      "cell_type": "code",
      "source": [
        "from sklearn.ensemble import RandomForestClassifier"
      ],
      "metadata": {
        "id": "hSQ0GTDx06xp"
      },
      "execution_count": 334,
      "outputs": []
    },
    {
      "cell_type": "code",
      "source": [
        "rf_clf = RandomForestClassifier(n_estimators=120)\n",
        "rf_clf.fit(X_train_normalized, y_train)"
      ],
      "metadata": {
        "colab": {
          "base_uri": "https://localhost:8080/",
          "height": 74
        },
        "id": "ZuwhU_SD060j",
        "outputId": "2962c1e3-d80e-4009-8e0f-cc5139d8d086"
      },
      "execution_count": 335,
      "outputs": [
        {
          "output_type": "execute_result",
          "data": {
            "text/plain": [
              "RandomForestClassifier(n_estimators=120)"
            ],
            "text/html": [
              "<style>#sk-container-id-12 {color: black;background-color: white;}#sk-container-id-12 pre{padding: 0;}#sk-container-id-12 div.sk-toggleable {background-color: white;}#sk-container-id-12 label.sk-toggleable__label {cursor: pointer;display: block;width: 100%;margin-bottom: 0;padding: 0.3em;box-sizing: border-box;text-align: center;}#sk-container-id-12 label.sk-toggleable__label-arrow:before {content: \"▸\";float: left;margin-right: 0.25em;color: #696969;}#sk-container-id-12 label.sk-toggleable__label-arrow:hover:before {color: black;}#sk-container-id-12 div.sk-estimator:hover label.sk-toggleable__label-arrow:before {color: black;}#sk-container-id-12 div.sk-toggleable__content {max-height: 0;max-width: 0;overflow: hidden;text-align: left;background-color: #f0f8ff;}#sk-container-id-12 div.sk-toggleable__content pre {margin: 0.2em;color: black;border-radius: 0.25em;background-color: #f0f8ff;}#sk-container-id-12 input.sk-toggleable__control:checked~div.sk-toggleable__content {max-height: 200px;max-width: 100%;overflow: auto;}#sk-container-id-12 input.sk-toggleable__control:checked~label.sk-toggleable__label-arrow:before {content: \"▾\";}#sk-container-id-12 div.sk-estimator input.sk-toggleable__control:checked~label.sk-toggleable__label {background-color: #d4ebff;}#sk-container-id-12 div.sk-label input.sk-toggleable__control:checked~label.sk-toggleable__label {background-color: #d4ebff;}#sk-container-id-12 input.sk-hidden--visually {border: 0;clip: rect(1px 1px 1px 1px);clip: rect(1px, 1px, 1px, 1px);height: 1px;margin: -1px;overflow: hidden;padding: 0;position: absolute;width: 1px;}#sk-container-id-12 div.sk-estimator {font-family: monospace;background-color: #f0f8ff;border: 1px dotted black;border-radius: 0.25em;box-sizing: border-box;margin-bottom: 0.5em;}#sk-container-id-12 div.sk-estimator:hover {background-color: #d4ebff;}#sk-container-id-12 div.sk-parallel-item::after {content: \"\";width: 100%;border-bottom: 1px solid gray;flex-grow: 1;}#sk-container-id-12 div.sk-label:hover label.sk-toggleable__label {background-color: #d4ebff;}#sk-container-id-12 div.sk-serial::before {content: \"\";position: absolute;border-left: 1px solid gray;box-sizing: border-box;top: 0;bottom: 0;left: 50%;z-index: 0;}#sk-container-id-12 div.sk-serial {display: flex;flex-direction: column;align-items: center;background-color: white;padding-right: 0.2em;padding-left: 0.2em;position: relative;}#sk-container-id-12 div.sk-item {position: relative;z-index: 1;}#sk-container-id-12 div.sk-parallel {display: flex;align-items: stretch;justify-content: center;background-color: white;position: relative;}#sk-container-id-12 div.sk-item::before, #sk-container-id-12 div.sk-parallel-item::before {content: \"\";position: absolute;border-left: 1px solid gray;box-sizing: border-box;top: 0;bottom: 0;left: 50%;z-index: -1;}#sk-container-id-12 div.sk-parallel-item {display: flex;flex-direction: column;z-index: 1;position: relative;background-color: white;}#sk-container-id-12 div.sk-parallel-item:first-child::after {align-self: flex-end;width: 50%;}#sk-container-id-12 div.sk-parallel-item:last-child::after {align-self: flex-start;width: 50%;}#sk-container-id-12 div.sk-parallel-item:only-child::after {width: 0;}#sk-container-id-12 div.sk-dashed-wrapped {border: 1px dashed gray;margin: 0 0.4em 0.5em 0.4em;box-sizing: border-box;padding-bottom: 0.4em;background-color: white;}#sk-container-id-12 div.sk-label label {font-family: monospace;font-weight: bold;display: inline-block;line-height: 1.2em;}#sk-container-id-12 div.sk-label-container {text-align: center;}#sk-container-id-12 div.sk-container {/* jupyter's `normalize.less` sets `[hidden] { display: none; }` but bootstrap.min.css set `[hidden] { display: none !important; }` so we also need the `!important` here to be able to override the default hidden behavior on the sphinx rendered scikit-learn.org. See: https://github.com/scikit-learn/scikit-learn/issues/21755 */display: inline-block !important;position: relative;}#sk-container-id-12 div.sk-text-repr-fallback {display: none;}</style><div id=\"sk-container-id-12\" class=\"sk-top-container\"><div class=\"sk-text-repr-fallback\"><pre>RandomForestClassifier(n_estimators=120)</pre><b>In a Jupyter environment, please rerun this cell to show the HTML representation or trust the notebook. <br />On GitHub, the HTML representation is unable to render, please try loading this page with nbviewer.org.</b></div><div class=\"sk-container\" hidden><div class=\"sk-item\"><div class=\"sk-estimator sk-toggleable\"><input class=\"sk-toggleable__control sk-hidden--visually\" id=\"sk-estimator-id-12\" type=\"checkbox\" checked><label for=\"sk-estimator-id-12\" class=\"sk-toggleable__label sk-toggleable__label-arrow\">RandomForestClassifier</label><div class=\"sk-toggleable__content\"><pre>RandomForestClassifier(n_estimators=120)</pre></div></div></div></div></div>"
            ]
          },
          "metadata": {},
          "execution_count": 335
        }
      ]
    },
    {
      "cell_type": "code",
      "source": [
        "y_pred = rf_clf.predict(X_test_normalized)"
      ],
      "metadata": {
        "id": "Q-l_ywbp063D"
      },
      "execution_count": 336,
      "outputs": []
    },
    {
      "cell_type": "code",
      "source": [
        "print(accuracy_score(y_test, y_pred))"
      ],
      "metadata": {
        "colab": {
          "base_uri": "https://localhost:8080/"
        },
        "id": "QCG4FspF066O",
        "outputId": "e2375010-b66e-432b-b164-e5ee8e9e9461"
      },
      "execution_count": 337,
      "outputs": [
        {
          "output_type": "stream",
          "name": "stdout",
          "text": [
            "0.2925170068027211\n"
          ]
        }
      ]
    },
    {
      "cell_type": "code",
      "source": [
        "print(classification_report(y_test, y_pred))"
      ],
      "metadata": {
        "colab": {
          "base_uri": "https://localhost:8080/"
        },
        "id": "g8wwM3Yy1OuY",
        "outputId": "a5c2de90-b867-4307-bf65-a52fcd2d2d9e"
      },
      "execution_count": 338,
      "outputs": [
        {
          "output_type": "stream",
          "name": "stdout",
          "text": [
            "              precision    recall  f1-score   support\n",
            "\n",
            "           0       0.00      0.00      0.00         2\n",
            "           1       0.00      0.00      0.00         0\n",
            "           3       0.00      0.00      0.00         1\n",
            "           5       0.00      0.00      0.00         1\n",
            "           9       0.00      0.00      0.00         1\n",
            "          12       1.00      1.00      1.00         1\n",
            "          15       0.00      0.00      0.00         1\n",
            "          17       0.00      0.00      0.00         1\n",
            "          22       0.67      0.67      0.67         3\n",
            "          23       0.00      0.00      0.00         0\n",
            "          24       0.00      0.00      0.00         1\n",
            "          26       0.00      0.00      0.00         1\n",
            "          27       0.00      0.00      0.00         0\n",
            "          28       1.00      1.00      1.00         1\n",
            "          29       0.00      0.00      0.00         2\n",
            "          30       0.00      0.00      0.00         1\n",
            "          31       1.00      1.00      1.00         1\n",
            "          32       1.00      1.00      1.00         1\n",
            "          33       0.00      0.00      0.00         1\n",
            "          35       0.00      0.00      0.00         1\n",
            "          38       0.00      0.00      0.00         1\n",
            "          40       0.00      0.00      0.00         1\n",
            "          42       0.00      0.00      0.00         1\n",
            "          45       0.00      0.00      0.00         1\n",
            "          50       0.00      0.00      0.00         0\n",
            "          51       0.00      0.00      0.00         0\n",
            "          53       1.00      0.67      0.80         3\n",
            "          54       0.00      0.00      0.00         1\n",
            "          55       0.00      0.00      0.00         1\n",
            "          56       0.00      0.00      0.00         3\n",
            "          57       1.00      1.00      1.00         1\n",
            "          58       1.00      1.00      1.00         1\n",
            "          61       0.00      0.00      0.00         1\n",
            "          64       0.00      0.00      0.00         2\n",
            "          65       0.00      0.00      0.00         0\n",
            "          66       0.00      0.00      0.00         1\n",
            "          68       1.00      1.00      1.00         2\n",
            "          69       0.00      0.00      0.00         0\n",
            "          71       0.25      1.00      0.40         1\n",
            "          72       0.00      0.00      0.00         0\n",
            "          79       0.00      0.00      0.00         2\n",
            "          82       0.00      0.00      0.00         1\n",
            "          83       0.00      0.00      0.00         2\n",
            "          89       1.00      1.00      1.00         3\n",
            "          90       0.00      0.00      0.00         1\n",
            "          91       1.00      1.00      1.00         1\n",
            "          93       0.00      0.00      0.00         1\n",
            "          95       0.00      0.00      0.00         1\n",
            "          99       0.00      0.00      0.00         0\n",
            "         100       0.00      0.00      0.00         2\n",
            "         101       0.00      0.00      0.00         1\n",
            "         102       0.00      0.00      0.00         0\n",
            "         103       0.00      0.00      0.00         2\n",
            "         104       0.00      0.00      0.00         1\n",
            "         108       0.00      0.00      0.00         1\n",
            "         109       0.00      0.00      0.00         0\n",
            "         110       0.00      0.00      0.00         3\n",
            "         111       0.50      0.33      0.40         3\n",
            "         112       0.00      0.00      0.00         1\n",
            "         113       0.00      0.00      0.00         0\n",
            "         115       0.00      0.00      0.00         1\n",
            "         116       1.00      1.00      1.00         1\n",
            "         121       0.00      0.00      0.00         1\n",
            "         122       0.00      0.00      0.00         3\n",
            "         123       0.00      0.00      0.00         0\n",
            "         124       0.00      0.00      0.00         2\n",
            "         125       0.00      0.00      0.00         0\n",
            "         127       1.00      1.00      1.00         1\n",
            "         128       0.00      0.00      0.00         0\n",
            "         135       0.00      0.00      0.00         1\n",
            "         136       0.00      0.00      0.00         0\n",
            "         139       0.00      0.00      0.00         6\n",
            "         143       1.00      1.00      1.00         2\n",
            "         145       0.00      0.00      0.00         2\n",
            "         152       1.00      1.00      1.00         1\n",
            "         159       0.00      0.00      0.00         1\n",
            "         162       0.00      0.00      0.00         1\n",
            "         163       0.33      1.00      0.50         1\n",
            "         167       0.00      0.00      0.00         1\n",
            "         169       0.00      0.00      0.00         1\n",
            "         172       0.33      0.50      0.40         8\n",
            "         173       0.00      0.00      0.00         1\n",
            "         175       0.00      0.00      0.00         1\n",
            "         176       0.00      0.00      0.00         1\n",
            "         178       0.50      1.00      0.67         1\n",
            "         180       0.00      0.00      0.00         1\n",
            "         182       0.00      0.00      0.00         1\n",
            "         184       0.00      0.00      0.00         0\n",
            "         187       0.00      0.00      0.00         2\n",
            "         191       0.00      0.00      0.00         1\n",
            "         192       0.00      0.00      0.00         0\n",
            "         195       0.00      0.00      0.00         0\n",
            "         196       0.00      0.00      0.00         1\n",
            "         199       0.00      0.00      0.00         1\n",
            "         201       1.00      1.00      1.00         1\n",
            "         203       0.50      1.00      0.67         1\n",
            "         208       0.00      0.00      0.00         1\n",
            "         211       1.00      0.50      0.67         2\n",
            "         214       0.15      0.89      0.26         9\n",
            "         220       1.00      1.00      1.00         1\n",
            "         224       0.00      0.00      0.00         1\n",
            "         226       0.00      0.00      0.00         0\n",
            "         227       0.00      0.00      0.00         1\n",
            "         231       0.00      0.00      0.00         0\n",
            "         232       0.00      0.00      0.00         1\n",
            "         234       0.00      0.00      0.00         1\n",
            "         235       0.00      0.00      0.00         0\n",
            "         237       0.00      0.00      0.00         0\n",
            "         240       0.00      0.00      0.00         2\n",
            "         242       0.00      0.00      0.00         1\n",
            "         243       0.00      0.00      0.00         2\n",
            "         245       0.00      0.00      0.00         0\n",
            "         246       1.00      1.00      1.00         2\n",
            "         250       0.00      0.00      0.00         1\n",
            "         252       0.00      0.00      0.00         1\n",
            "         253       0.00      0.00      0.00         1\n",
            "         255       0.00      0.00      0.00         0\n",
            "         256       0.00      0.00      0.00         0\n",
            "         257       0.00      0.00      0.00         1\n",
            "         264       0.00      0.00      0.00         1\n",
            "         269       0.00      0.00      0.00         1\n",
            "         271       0.00      0.00      0.00         1\n",
            "         278       0.00      0.00      0.00         1\n",
            "\n",
            "    accuracy                           0.29       147\n",
            "   macro avg       0.17      0.19      0.17       147\n",
            "weighted avg       0.24      0.29      0.24       147\n",
            "\n"
          ]
        },
        {
          "output_type": "stream",
          "name": "stderr",
          "text": [
            "/usr/local/lib/python3.10/dist-packages/sklearn/metrics/_classification.py:1344: UndefinedMetricWarning: Precision and F-score are ill-defined and being set to 0.0 in labels with no predicted samples. Use `zero_division` parameter to control this behavior.\n",
            "  _warn_prf(average, modifier, msg_start, len(result))\n",
            "/usr/local/lib/python3.10/dist-packages/sklearn/metrics/_classification.py:1344: UndefinedMetricWarning: Recall and F-score are ill-defined and being set to 0.0 in labels with no true samples. Use `zero_division` parameter to control this behavior.\n",
            "  _warn_prf(average, modifier, msg_start, len(result))\n",
            "/usr/local/lib/python3.10/dist-packages/sklearn/metrics/_classification.py:1344: UndefinedMetricWarning: Precision and F-score are ill-defined and being set to 0.0 in labels with no predicted samples. Use `zero_division` parameter to control this behavior.\n",
            "  _warn_prf(average, modifier, msg_start, len(result))\n",
            "/usr/local/lib/python3.10/dist-packages/sklearn/metrics/_classification.py:1344: UndefinedMetricWarning: Recall and F-score are ill-defined and being set to 0.0 in labels with no true samples. Use `zero_division` parameter to control this behavior.\n",
            "  _warn_prf(average, modifier, msg_start, len(result))\n",
            "/usr/local/lib/python3.10/dist-packages/sklearn/metrics/_classification.py:1344: UndefinedMetricWarning: Precision and F-score are ill-defined and being set to 0.0 in labels with no predicted samples. Use `zero_division` parameter to control this behavior.\n",
            "  _warn_prf(average, modifier, msg_start, len(result))\n",
            "/usr/local/lib/python3.10/dist-packages/sklearn/metrics/_classification.py:1344: UndefinedMetricWarning: Recall and F-score are ill-defined and being set to 0.0 in labels with no true samples. Use `zero_division` parameter to control this behavior.\n",
            "  _warn_prf(average, modifier, msg_start, len(result))\n"
          ]
        }
      ]
    },
    {
      "cell_type": "code",
      "source": [
        "test_data = pd.read_csv('/content/sentimentdataset.csv')\n",
        "test_data.head(149)"
      ],
      "metadata": {
        "colab": {
          "base_uri": "https://localhost:8080/",
          "height": 1000
        },
        "id": "37rNkNts1O0n",
        "outputId": "ae31d366-1baa-44c4-a4a6-ae9d4f466e3f"
      },
      "execution_count": 339,
      "outputs": [
        {
          "output_type": "execute_result",
          "data": {
            "text/plain": [
              "     Unnamed: 0.1  Unnamed: 0  \\\n",
              "0               0           0   \n",
              "1               1           1   \n",
              "2               2           2   \n",
              "3               3           3   \n",
              "4               4           4   \n",
              "..            ...         ...   \n",
              "144           145         147   \n",
              "145           146         148   \n",
              "146           147         149   \n",
              "147           148         150   \n",
              "148           149         151   \n",
              "\n",
              "                                                  Text        Sentiment  \\\n",
              "0     Enjoying a beautiful day at the park!        ...       Positive     \n",
              "1     Traffic was terrible this morning.           ...       Negative     \n",
              "2     Just finished an amazing workout! 💪          ...       Positive     \n",
              "3     Excited about the upcoming weekend getaway!  ...       Positive     \n",
              "4     Trying out a new recipe for dinner tonight.  ...       Neutral      \n",
              "..                                                 ...              ...   \n",
              "144   Tenderness in a heartfelt message to a loved ...   Tenderness       \n",
              "145   Arousal of excitement before a much-awaited t...   Arousal          \n",
              "146   Enthusiasm for a new artistic project in the ...   Enthusiasm       \n",
              "147   Feeling a sense of fulfillment after helping ...   Fulfillment      \n",
              "148   Reverence for the historical significance of ...       Reverence    \n",
              "\n",
              "               Timestamp               User     Platform  \\\n",
              "0    2023-01-15 12:30:00      User123          Twitter     \n",
              "1    2023-01-15 08:45:00      CommuterX        Twitter     \n",
              "2    2023-01-15 15:45:00      FitnessFan      Instagram    \n",
              "3    2023-01-15 18:20:00      AdventureX       Facebook    \n",
              "4    2023-01-15 19:55:00      ChefCook        Instagram    \n",
              "..                   ...                ...          ...   \n",
              "144  2016-12-25 19:30:00   LoveExpress         Facebook    \n",
              "145  2018-03-10 09:45:00   TravelExcitement    Twitter     \n",
              "146  2020-09-17 16:30:00   ArtisticSpirit     Instagram    \n",
              "147  2011-08-28 18:45:00   HelperHeart         Facebook    \n",
              "148  2017-11-01 15:30:00   HistoryBuff         Twitter     \n",
              "\n",
              "                                            Hashtags  Retweets  Likes  \\\n",
              "0          #Nature #Park                                  15.0   30.0   \n",
              "1          #Traffic #Morning                               5.0   10.0   \n",
              "2          #Fitness #Workout                              20.0   40.0   \n",
              "3          #Travel #Adventure                              8.0   15.0   \n",
              "4          #Cooking #Food                                 12.0   25.0   \n",
              "..                                               ...       ...    ...   \n",
              "144   #Tenderness #LoveNote                               25.0   50.0   \n",
              "145   #Arousal #TravelAdventure                           20.0   40.0   \n",
              "146    #Enthusiasm #ArtisticProject                       15.0   30.0   \n",
              "147    #Fulfillment #HelpingOthers                        22.0   45.0   \n",
              "148    #Reverence #HistoricalSite                         18.0   35.0   \n",
              "\n",
              "           Country  Year  Month  Day  Hour  \n",
              "0        USA        2023      1   15    12  \n",
              "1        Canada     2023      1   15     8  \n",
              "2      USA          2023      1   15    15  \n",
              "3        UK         2023      1   15    18  \n",
              "4       Australia   2023      1   15    19  \n",
              "..             ...   ...    ...  ...   ...  \n",
              "144   UK            2016     12   25    19  \n",
              "145      India      2018      3   10     9  \n",
              "146     USA         2020      9   17    16  \n",
              "147     Canada      2011      8   28    18  \n",
              "148     Australia   2017     11    1    15  \n",
              "\n",
              "[149 rows x 15 columns]"
            ],
            "text/html": [
              "\n",
              "  <div id=\"df-a3916c06-78ff-45cb-8245-7ee50bd86572\" class=\"colab-df-container\">\n",
              "    <div>\n",
              "<style scoped>\n",
              "    .dataframe tbody tr th:only-of-type {\n",
              "        vertical-align: middle;\n",
              "    }\n",
              "\n",
              "    .dataframe tbody tr th {\n",
              "        vertical-align: top;\n",
              "    }\n",
              "\n",
              "    .dataframe thead th {\n",
              "        text-align: right;\n",
              "    }\n",
              "</style>\n",
              "<table border=\"1\" class=\"dataframe\">\n",
              "  <thead>\n",
              "    <tr style=\"text-align: right;\">\n",
              "      <th></th>\n",
              "      <th>Unnamed: 0.1</th>\n",
              "      <th>Unnamed: 0</th>\n",
              "      <th>Text</th>\n",
              "      <th>Sentiment</th>\n",
              "      <th>Timestamp</th>\n",
              "      <th>User</th>\n",
              "      <th>Platform</th>\n",
              "      <th>Hashtags</th>\n",
              "      <th>Retweets</th>\n",
              "      <th>Likes</th>\n",
              "      <th>Country</th>\n",
              "      <th>Year</th>\n",
              "      <th>Month</th>\n",
              "      <th>Day</th>\n",
              "      <th>Hour</th>\n",
              "    </tr>\n",
              "  </thead>\n",
              "  <tbody>\n",
              "    <tr>\n",
              "      <th>0</th>\n",
              "      <td>0</td>\n",
              "      <td>0</td>\n",
              "      <td>Enjoying a beautiful day at the park!        ...</td>\n",
              "      <td>Positive</td>\n",
              "      <td>2023-01-15 12:30:00</td>\n",
              "      <td>User123</td>\n",
              "      <td>Twitter</td>\n",
              "      <td>#Nature #Park</td>\n",
              "      <td>15.0</td>\n",
              "      <td>30.0</td>\n",
              "      <td>USA</td>\n",
              "      <td>2023</td>\n",
              "      <td>1</td>\n",
              "      <td>15</td>\n",
              "      <td>12</td>\n",
              "    </tr>\n",
              "    <tr>\n",
              "      <th>1</th>\n",
              "      <td>1</td>\n",
              "      <td>1</td>\n",
              "      <td>Traffic was terrible this morning.           ...</td>\n",
              "      <td>Negative</td>\n",
              "      <td>2023-01-15 08:45:00</td>\n",
              "      <td>CommuterX</td>\n",
              "      <td>Twitter</td>\n",
              "      <td>#Traffic #Morning</td>\n",
              "      <td>5.0</td>\n",
              "      <td>10.0</td>\n",
              "      <td>Canada</td>\n",
              "      <td>2023</td>\n",
              "      <td>1</td>\n",
              "      <td>15</td>\n",
              "      <td>8</td>\n",
              "    </tr>\n",
              "    <tr>\n",
              "      <th>2</th>\n",
              "      <td>2</td>\n",
              "      <td>2</td>\n",
              "      <td>Just finished an amazing workout! 💪          ...</td>\n",
              "      <td>Positive</td>\n",
              "      <td>2023-01-15 15:45:00</td>\n",
              "      <td>FitnessFan</td>\n",
              "      <td>Instagram</td>\n",
              "      <td>#Fitness #Workout</td>\n",
              "      <td>20.0</td>\n",
              "      <td>40.0</td>\n",
              "      <td>USA</td>\n",
              "      <td>2023</td>\n",
              "      <td>1</td>\n",
              "      <td>15</td>\n",
              "      <td>15</td>\n",
              "    </tr>\n",
              "    <tr>\n",
              "      <th>3</th>\n",
              "      <td>3</td>\n",
              "      <td>3</td>\n",
              "      <td>Excited about the upcoming weekend getaway!  ...</td>\n",
              "      <td>Positive</td>\n",
              "      <td>2023-01-15 18:20:00</td>\n",
              "      <td>AdventureX</td>\n",
              "      <td>Facebook</td>\n",
              "      <td>#Travel #Adventure</td>\n",
              "      <td>8.0</td>\n",
              "      <td>15.0</td>\n",
              "      <td>UK</td>\n",
              "      <td>2023</td>\n",
              "      <td>1</td>\n",
              "      <td>15</td>\n",
              "      <td>18</td>\n",
              "    </tr>\n",
              "    <tr>\n",
              "      <th>4</th>\n",
              "      <td>4</td>\n",
              "      <td>4</td>\n",
              "      <td>Trying out a new recipe for dinner tonight.  ...</td>\n",
              "      <td>Neutral</td>\n",
              "      <td>2023-01-15 19:55:00</td>\n",
              "      <td>ChefCook</td>\n",
              "      <td>Instagram</td>\n",
              "      <td>#Cooking #Food</td>\n",
              "      <td>12.0</td>\n",
              "      <td>25.0</td>\n",
              "      <td>Australia</td>\n",
              "      <td>2023</td>\n",
              "      <td>1</td>\n",
              "      <td>15</td>\n",
              "      <td>19</td>\n",
              "    </tr>\n",
              "    <tr>\n",
              "      <th>...</th>\n",
              "      <td>...</td>\n",
              "      <td>...</td>\n",
              "      <td>...</td>\n",
              "      <td>...</td>\n",
              "      <td>...</td>\n",
              "      <td>...</td>\n",
              "      <td>...</td>\n",
              "      <td>...</td>\n",
              "      <td>...</td>\n",
              "      <td>...</td>\n",
              "      <td>...</td>\n",
              "      <td>...</td>\n",
              "      <td>...</td>\n",
              "      <td>...</td>\n",
              "      <td>...</td>\n",
              "    </tr>\n",
              "    <tr>\n",
              "      <th>144</th>\n",
              "      <td>145</td>\n",
              "      <td>147</td>\n",
              "      <td>Tenderness in a heartfelt message to a loved ...</td>\n",
              "      <td>Tenderness</td>\n",
              "      <td>2016-12-25 19:30:00</td>\n",
              "      <td>LoveExpress</td>\n",
              "      <td>Facebook</td>\n",
              "      <td>#Tenderness #LoveNote</td>\n",
              "      <td>25.0</td>\n",
              "      <td>50.0</td>\n",
              "      <td>UK</td>\n",
              "      <td>2016</td>\n",
              "      <td>12</td>\n",
              "      <td>25</td>\n",
              "      <td>19</td>\n",
              "    </tr>\n",
              "    <tr>\n",
              "      <th>145</th>\n",
              "      <td>146</td>\n",
              "      <td>148</td>\n",
              "      <td>Arousal of excitement before a much-awaited t...</td>\n",
              "      <td>Arousal</td>\n",
              "      <td>2018-03-10 09:45:00</td>\n",
              "      <td>TravelExcitement</td>\n",
              "      <td>Twitter</td>\n",
              "      <td>#Arousal #TravelAdventure</td>\n",
              "      <td>20.0</td>\n",
              "      <td>40.0</td>\n",
              "      <td>India</td>\n",
              "      <td>2018</td>\n",
              "      <td>3</td>\n",
              "      <td>10</td>\n",
              "      <td>9</td>\n",
              "    </tr>\n",
              "    <tr>\n",
              "      <th>146</th>\n",
              "      <td>147</td>\n",
              "      <td>149</td>\n",
              "      <td>Enthusiasm for a new artistic project in the ...</td>\n",
              "      <td>Enthusiasm</td>\n",
              "      <td>2020-09-17 16:30:00</td>\n",
              "      <td>ArtisticSpirit</td>\n",
              "      <td>Instagram</td>\n",
              "      <td>#Enthusiasm #ArtisticProject</td>\n",
              "      <td>15.0</td>\n",
              "      <td>30.0</td>\n",
              "      <td>USA</td>\n",
              "      <td>2020</td>\n",
              "      <td>9</td>\n",
              "      <td>17</td>\n",
              "      <td>16</td>\n",
              "    </tr>\n",
              "    <tr>\n",
              "      <th>147</th>\n",
              "      <td>148</td>\n",
              "      <td>150</td>\n",
              "      <td>Feeling a sense of fulfillment after helping ...</td>\n",
              "      <td>Fulfillment</td>\n",
              "      <td>2011-08-28 18:45:00</td>\n",
              "      <td>HelperHeart</td>\n",
              "      <td>Facebook</td>\n",
              "      <td>#Fulfillment #HelpingOthers</td>\n",
              "      <td>22.0</td>\n",
              "      <td>45.0</td>\n",
              "      <td>Canada</td>\n",
              "      <td>2011</td>\n",
              "      <td>8</td>\n",
              "      <td>28</td>\n",
              "      <td>18</td>\n",
              "    </tr>\n",
              "    <tr>\n",
              "      <th>148</th>\n",
              "      <td>149</td>\n",
              "      <td>151</td>\n",
              "      <td>Reverence for the historical significance of ...</td>\n",
              "      <td>Reverence</td>\n",
              "      <td>2017-11-01 15:30:00</td>\n",
              "      <td>HistoryBuff</td>\n",
              "      <td>Twitter</td>\n",
              "      <td>#Reverence #HistoricalSite</td>\n",
              "      <td>18.0</td>\n",
              "      <td>35.0</td>\n",
              "      <td>Australia</td>\n",
              "      <td>2017</td>\n",
              "      <td>11</td>\n",
              "      <td>1</td>\n",
              "      <td>15</td>\n",
              "    </tr>\n",
              "  </tbody>\n",
              "</table>\n",
              "<p>149 rows × 15 columns</p>\n",
              "</div>\n",
              "    <div class=\"colab-df-buttons\">\n",
              "\n",
              "  <div class=\"colab-df-container\">\n",
              "    <button class=\"colab-df-convert\" onclick=\"convertToInteractive('df-a3916c06-78ff-45cb-8245-7ee50bd86572')\"\n",
              "            title=\"Convert this dataframe to an interactive table.\"\n",
              "            style=\"display:none;\">\n",
              "\n",
              "  <svg xmlns=\"http://www.w3.org/2000/svg\" height=\"24px\" viewBox=\"0 -960 960 960\">\n",
              "    <path d=\"M120-120v-720h720v720H120Zm60-500h600v-160H180v160Zm220 220h160v-160H400v160Zm0 220h160v-160H400v160ZM180-400h160v-160H180v160Zm440 0h160v-160H620v160ZM180-180h160v-160H180v160Zm440 0h160v-160H620v160Z\"/>\n",
              "  </svg>\n",
              "    </button>\n",
              "\n",
              "  <style>\n",
              "    .colab-df-container {\n",
              "      display:flex;\n",
              "      gap: 12px;\n",
              "    }\n",
              "\n",
              "    .colab-df-convert {\n",
              "      background-color: #E8F0FE;\n",
              "      border: none;\n",
              "      border-radius: 50%;\n",
              "      cursor: pointer;\n",
              "      display: none;\n",
              "      fill: #1967D2;\n",
              "      height: 32px;\n",
              "      padding: 0 0 0 0;\n",
              "      width: 32px;\n",
              "    }\n",
              "\n",
              "    .colab-df-convert:hover {\n",
              "      background-color: #E2EBFA;\n",
              "      box-shadow: 0px 1px 2px rgba(60, 64, 67, 0.3), 0px 1px 3px 1px rgba(60, 64, 67, 0.15);\n",
              "      fill: #174EA6;\n",
              "    }\n",
              "\n",
              "    .colab-df-buttons div {\n",
              "      margin-bottom: 4px;\n",
              "    }\n",
              "\n",
              "    [theme=dark] .colab-df-convert {\n",
              "      background-color: #3B4455;\n",
              "      fill: #D2E3FC;\n",
              "    }\n",
              "\n",
              "    [theme=dark] .colab-df-convert:hover {\n",
              "      background-color: #434B5C;\n",
              "      box-shadow: 0px 1px 3px 1px rgba(0, 0, 0, 0.15);\n",
              "      filter: drop-shadow(0px 1px 2px rgba(0, 0, 0, 0.3));\n",
              "      fill: #FFFFFF;\n",
              "    }\n",
              "  </style>\n",
              "\n",
              "    <script>\n",
              "      const buttonEl =\n",
              "        document.querySelector('#df-a3916c06-78ff-45cb-8245-7ee50bd86572 button.colab-df-convert');\n",
              "      buttonEl.style.display =\n",
              "        google.colab.kernel.accessAllowed ? 'block' : 'none';\n",
              "\n",
              "      async function convertToInteractive(key) {\n",
              "        const element = document.querySelector('#df-a3916c06-78ff-45cb-8245-7ee50bd86572');\n",
              "        const dataTable =\n",
              "          await google.colab.kernel.invokeFunction('convertToInteractive',\n",
              "                                                    [key], {});\n",
              "        if (!dataTable) return;\n",
              "\n",
              "        const docLinkHtml = 'Like what you see? Visit the ' +\n",
              "          '<a target=\"_blank\" href=https://colab.research.google.com/notebooks/data_table.ipynb>data table notebook</a>'\n",
              "          + ' to learn more about interactive tables.';\n",
              "        element.innerHTML = '';\n",
              "        dataTable['output_type'] = 'display_data';\n",
              "        await google.colab.output.renderOutput(dataTable, element);\n",
              "        const docLink = document.createElement('div');\n",
              "        docLink.innerHTML = docLinkHtml;\n",
              "        element.appendChild(docLink);\n",
              "      }\n",
              "    </script>\n",
              "  </div>\n",
              "\n",
              "\n",
              "<div id=\"df-40b38553-d2f2-4c07-9464-772b75ef3c7c\">\n",
              "  <button class=\"colab-df-quickchart\" onclick=\"quickchart('df-40b38553-d2f2-4c07-9464-772b75ef3c7c')\"\n",
              "            title=\"Suggest charts\"\n",
              "            style=\"display:none;\">\n",
              "\n",
              "<svg xmlns=\"http://www.w3.org/2000/svg\" height=\"24px\"viewBox=\"0 0 24 24\"\n",
              "     width=\"24px\">\n",
              "    <g>\n",
              "        <path d=\"M19 3H5c-1.1 0-2 .9-2 2v14c0 1.1.9 2 2 2h14c1.1 0 2-.9 2-2V5c0-1.1-.9-2-2-2zM9 17H7v-7h2v7zm4 0h-2V7h2v10zm4 0h-2v-4h2v4z\"/>\n",
              "    </g>\n",
              "</svg>\n",
              "  </button>\n",
              "\n",
              "<style>\n",
              "  .colab-df-quickchart {\n",
              "      --bg-color: #E8F0FE;\n",
              "      --fill-color: #1967D2;\n",
              "      --hover-bg-color: #E2EBFA;\n",
              "      --hover-fill-color: #174EA6;\n",
              "      --disabled-fill-color: #AAA;\n",
              "      --disabled-bg-color: #DDD;\n",
              "  }\n",
              "\n",
              "  [theme=dark] .colab-df-quickchart {\n",
              "      --bg-color: #3B4455;\n",
              "      --fill-color: #D2E3FC;\n",
              "      --hover-bg-color: #434B5C;\n",
              "      --hover-fill-color: #FFFFFF;\n",
              "      --disabled-bg-color: #3B4455;\n",
              "      --disabled-fill-color: #666;\n",
              "  }\n",
              "\n",
              "  .colab-df-quickchart {\n",
              "    background-color: var(--bg-color);\n",
              "    border: none;\n",
              "    border-radius: 50%;\n",
              "    cursor: pointer;\n",
              "    display: none;\n",
              "    fill: var(--fill-color);\n",
              "    height: 32px;\n",
              "    padding: 0;\n",
              "    width: 32px;\n",
              "  }\n",
              "\n",
              "  .colab-df-quickchart:hover {\n",
              "    background-color: var(--hover-bg-color);\n",
              "    box-shadow: 0 1px 2px rgba(60, 64, 67, 0.3), 0 1px 3px 1px rgba(60, 64, 67, 0.15);\n",
              "    fill: var(--button-hover-fill-color);\n",
              "  }\n",
              "\n",
              "  .colab-df-quickchart-complete:disabled,\n",
              "  .colab-df-quickchart-complete:disabled:hover {\n",
              "    background-color: var(--disabled-bg-color);\n",
              "    fill: var(--disabled-fill-color);\n",
              "    box-shadow: none;\n",
              "  }\n",
              "\n",
              "  .colab-df-spinner {\n",
              "    border: 2px solid var(--fill-color);\n",
              "    border-color: transparent;\n",
              "    border-bottom-color: var(--fill-color);\n",
              "    animation:\n",
              "      spin 1s steps(1) infinite;\n",
              "  }\n",
              "\n",
              "  @keyframes spin {\n",
              "    0% {\n",
              "      border-color: transparent;\n",
              "      border-bottom-color: var(--fill-color);\n",
              "      border-left-color: var(--fill-color);\n",
              "    }\n",
              "    20% {\n",
              "      border-color: transparent;\n",
              "      border-left-color: var(--fill-color);\n",
              "      border-top-color: var(--fill-color);\n",
              "    }\n",
              "    30% {\n",
              "      border-color: transparent;\n",
              "      border-left-color: var(--fill-color);\n",
              "      border-top-color: var(--fill-color);\n",
              "      border-right-color: var(--fill-color);\n",
              "    }\n",
              "    40% {\n",
              "      border-color: transparent;\n",
              "      border-right-color: var(--fill-color);\n",
              "      border-top-color: var(--fill-color);\n",
              "    }\n",
              "    60% {\n",
              "      border-color: transparent;\n",
              "      border-right-color: var(--fill-color);\n",
              "    }\n",
              "    80% {\n",
              "      border-color: transparent;\n",
              "      border-right-color: var(--fill-color);\n",
              "      border-bottom-color: var(--fill-color);\n",
              "    }\n",
              "    90% {\n",
              "      border-color: transparent;\n",
              "      border-bottom-color: var(--fill-color);\n",
              "    }\n",
              "  }\n",
              "</style>\n",
              "\n",
              "  <script>\n",
              "    async function quickchart(key) {\n",
              "      const quickchartButtonEl =\n",
              "        document.querySelector('#' + key + ' button');\n",
              "      quickchartButtonEl.disabled = true;  // To prevent multiple clicks.\n",
              "      quickchartButtonEl.classList.add('colab-df-spinner');\n",
              "      try {\n",
              "        const charts = await google.colab.kernel.invokeFunction(\n",
              "            'suggestCharts', [key], {});\n",
              "      } catch (error) {\n",
              "        console.error('Error during call to suggestCharts:', error);\n",
              "      }\n",
              "      quickchartButtonEl.classList.remove('colab-df-spinner');\n",
              "      quickchartButtonEl.classList.add('colab-df-quickchart-complete');\n",
              "    }\n",
              "    (() => {\n",
              "      let quickchartButtonEl =\n",
              "        document.querySelector('#df-40b38553-d2f2-4c07-9464-772b75ef3c7c button');\n",
              "      quickchartButtonEl.style.display =\n",
              "        google.colab.kernel.accessAllowed ? 'block' : 'none';\n",
              "    })();\n",
              "  </script>\n",
              "</div>\n",
              "\n",
              "    </div>\n",
              "  </div>\n"
            ],
            "application/vnd.google.colaboratory.intrinsic+json": {
              "type": "dataframe",
              "variable_name": "test_data",
              "summary": "{\n  \"name\": \"test_data\",\n  \"rows\": 732,\n  \"fields\": [\n    {\n      \"column\": \"Unnamed: 0.1\",\n      \"properties\": {\n        \"dtype\": \"number\",\n        \"std\": 211,\n        \"min\": 0,\n        \"max\": 732,\n        \"num_unique_values\": 732,\n        \"samples\": [\n          605,\n          34,\n          301\n        ],\n        \"semantic_type\": \"\",\n        \"description\": \"\"\n      }\n    },\n    {\n      \"column\": \"Unnamed: 0\",\n      \"properties\": {\n        \"dtype\": \"number\",\n        \"std\": 212,\n        \"min\": 0,\n        \"max\": 736,\n        \"num_unique_values\": 732,\n        \"samples\": [\n          609,\n          35,\n          305\n        ],\n        \"semantic_type\": \"\",\n        \"description\": \"\"\n      }\n    },\n    {\n      \"column\": \"Text\",\n      \"properties\": {\n        \"dtype\": \"string\",\n        \"num_unique_values\": 707,\n        \"samples\": [\n          \"Walking the Great Wall of China, each step a testament to ancient engineering marvels. \",\n          \" Laughter is the key to joy\\u2014attending a stand-up comedy show. \",\n          \" The fear of the unknown is keeping me up at night.    \"\n        ],\n        \"semantic_type\": \"\",\n        \"description\": \"\"\n      }\n    },\n    {\n      \"column\": \"Sentiment\",\n      \"properties\": {\n        \"dtype\": \"category\",\n        \"num_unique_values\": 279,\n        \"samples\": [\n          \" Elation       \",\n          \" Confidence    \",\n          \" Loss \"\n        ],\n        \"semantic_type\": \"\",\n        \"description\": \"\"\n      }\n    },\n    {\n      \"column\": \"Timestamp\",\n      \"properties\": {\n        \"dtype\": \"object\",\n        \"num_unique_values\": 683,\n        \"samples\": [\n          \"2019-12-12 17:00:00\",\n          \"2018-03-10 09:45:00\",\n          \"2022-01-05 10:30:00\"\n        ],\n        \"semantic_type\": \"\",\n        \"description\": \"\"\n      }\n    },\n    {\n      \"column\": \"User\",\n      \"properties\": {\n        \"dtype\": \"string\",\n        \"num_unique_values\": 685,\n        \"samples\": [\n          \" VenomousHeart \",\n          \" GamingEnthusiast \",\n          \" DreamChaser       \"\n        ],\n        \"semantic_type\": \"\",\n        \"description\": \"\"\n      }\n    },\n    {\n      \"column\": \"Platform\",\n      \"properties\": {\n        \"dtype\": \"category\",\n        \"num_unique_values\": 4,\n        \"samples\": [\n          \" Instagram \",\n          \" Twitter \",\n          \" Twitter  \"\n        ],\n        \"semantic_type\": \"\",\n        \"description\": \"\"\n      }\n    },\n    {\n      \"column\": \"Hashtags\",\n      \"properties\": {\n        \"dtype\": \"string\",\n        \"num_unique_values\": 697,\n        \"samples\": [\n          \" #Fulfillment #PuzzleChallenge                \",\n          \" #Nostalgia #ClassicFilmMoments \",\n          \" #Isolation #EmotionalWinter            \"\n        ],\n        \"semantic_type\": \"\",\n        \"description\": \"\"\n      }\n    },\n    {\n      \"column\": \"Retweets\",\n      \"properties\": {\n        \"dtype\": \"number\",\n        \"std\": 7.061286414470444,\n        \"min\": 5.0,\n        \"max\": 40.0,\n        \"num_unique_values\": 26,\n        \"samples\": [\n          18.0,\n          17.0,\n          15.0\n        ],\n        \"semantic_type\": \"\",\n        \"description\": \"\"\n      }\n    },\n    {\n      \"column\": \"Likes\",\n      \"properties\": {\n        \"dtype\": \"number\",\n        \"std\": 14.089848390888775,\n        \"min\": 10.0,\n        \"max\": 80.0,\n        \"num_unique_values\": 38,\n        \"samples\": [\n          31.0,\n          51.0,\n          25.0\n        ],\n        \"semantic_type\": \"\",\n        \"description\": \"\"\n      }\n    },\n    {\n      \"column\": \"Country\",\n      \"properties\": {\n        \"dtype\": \"category\",\n        \"num_unique_values\": 115,\n        \"samples\": [\n          \" France         \",\n          \" Australia \",\n          \" India         \"\n        ],\n        \"semantic_type\": \"\",\n        \"description\": \"\"\n      }\n    },\n    {\n      \"column\": \"Year\",\n      \"properties\": {\n        \"dtype\": \"number\",\n        \"std\": 2,\n        \"min\": 2010,\n        \"max\": 2023,\n        \"num_unique_values\": 14,\n        \"samples\": [\n          2016,\n          2018,\n          2023\n        ],\n        \"semantic_type\": \"\",\n        \"description\": \"\"\n      }\n    },\n    {\n      \"column\": \"Month\",\n      \"properties\": {\n        \"dtype\": \"number\",\n        \"std\": 3,\n        \"min\": 1,\n        \"max\": 12,\n        \"num_unique_values\": 12,\n        \"samples\": [\n          10,\n          7,\n          1\n        ],\n        \"semantic_type\": \"\",\n        \"description\": \"\"\n      }\n    },\n    {\n      \"column\": \"Day\",\n      \"properties\": {\n        \"dtype\": \"number\",\n        \"std\": 8,\n        \"min\": 1,\n        \"max\": 31,\n        \"num_unique_values\": 31,\n        \"samples\": [\n          7,\n          30,\n          3\n        ],\n        \"semantic_type\": \"\",\n        \"description\": \"\"\n      }\n    },\n    {\n      \"column\": \"Hour\",\n      \"properties\": {\n        \"dtype\": \"number\",\n        \"std\": 4,\n        \"min\": 0,\n        \"max\": 23,\n        \"num_unique_values\": 22,\n        \"samples\": [\n          12,\n          20,\n          13\n        ],\n        \"semantic_type\": \"\",\n        \"description\": \"\"\n      }\n    }\n  ]\n}"
            }
          },
          "metadata": {},
          "execution_count": 339
        }
      ]
    },
    {
      "cell_type": "code",
      "source": [
        "y_test = test_data.loc[148].Sentiment\n",
        "x = test_data.loc[148].Text"
      ],
      "metadata": {
        "id": "ArZGJ_kj1O3-"
      },
      "execution_count": 340,
      "outputs": []
    },
    {
      "cell_type": "code",
      "source": [
        "preproc_x = preprocess_data(x)"
      ],
      "metadata": {
        "id": "iDOnRBUO1O7C"
      },
      "execution_count": 341,
      "outputs": []
    },
    {
      "cell_type": "code",
      "source": [
        "preproc_x"
      ],
      "metadata": {
        "colab": {
          "base_uri": "https://localhost:8080/",
          "height": 36
        },
        "id": "CXquvHQU1O-k",
        "outputId": "8a615a14-30a0-41f2-ccc2-a63707a4135b"
      },
      "execution_count": 342,
      "outputs": [
        {
          "output_type": "execute_result",
          "data": {
            "text/plain": [
              "'  Reverence historical significance landmark'"
            ],
            "application/vnd.google.colaboratory.intrinsic+json": {
              "type": "string"
            }
          },
          "metadata": {},
          "execution_count": 342
        }
      ]
    },
    {
      "cell_type": "code",
      "source": [
        "x_testing = v.transform([preproc_x])"
      ],
      "metadata": {
        "id": "JlIcFlDk1juy"
      },
      "execution_count": 343,
      "outputs": []
    },
    {
      "cell_type": "code",
      "source": [
        "x_testing.shape"
      ],
      "metadata": {
        "colab": {
          "base_uri": "https://localhost:8080/"
        },
        "id": "aPV8Tjum1jxy",
        "outputId": "5e05eff0-e6f8-40ed-e128-fd997a618b5a"
      },
      "execution_count": 344,
      "outputs": [
        {
          "output_type": "execute_result",
          "data": {
            "text/plain": [
              "(1, 1834)"
            ]
          },
          "metadata": {},
          "execution_count": 344
        }
      ]
    },
    {
      "cell_type": "code",
      "source": [
        "y_pred = rf_clf.predict(x_testing)"
      ],
      "metadata": {
        "id": "RyUZ1AK51j1T"
      },
      "execution_count": 345,
      "outputs": []
    },
    {
      "cell_type": "code",
      "source": [
        "print(f\"the predicted output is {y_pred} and it corresponds to {encoder.classes_[y_pred]} and\\n the true value is {y_test}\")"
      ],
      "metadata": {
        "colab": {
          "base_uri": "https://localhost:8080/"
        },
        "id": "wxOxyD1_069o",
        "outputId": "21e3c7bd-5fe1-477b-81b8-3f76fbedcbb5"
      },
      "execution_count": 346,
      "outputs": [
        {
          "output_type": "stream",
          "name": "stdout",
          "text": [
            "the predicted output is [235] and it corresponds to [' Reverence     '] and\n",
            " the true value is  Reverence \n"
          ]
        }
      ]
    },
    {
      "cell_type": "code",
      "source": [
        "print(y_test)"
      ],
      "metadata": {
        "colab": {
          "base_uri": "https://localhost:8080/"
        },
        "id": "1iM0fOV91twe",
        "outputId": "1b533429-54f3-41e4-9ca0-6029a4fd1f9d"
      },
      "execution_count": 347,
      "outputs": [
        {
          "output_type": "stream",
          "name": "stdout",
          "text": [
            " Reverence \n"
          ]
        }
      ]
    }
  ]
}